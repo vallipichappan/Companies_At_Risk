{
 "cells": [
  {
   "cell_type": "markdown",
   "metadata": {},
   "source": [
    "### Importing libraries and reading data"
   ]
  },
  {
   "cell_type": "code",
   "execution_count": 23,
   "metadata": {},
   "outputs": [],
   "source": [
    "import os\n",
    "\n",
    "# for data analytics\n",
    "import pandas as pd\n",
    "import numpy as np\n",
    "from collections import Counter\n",
    "\n",
    "# for visualizations\n",
    "import seaborn as sns\n",
    "import matplotlib.pyplot as plt\n",
    "\n",
    "# preprocess\n",
    "from sklearn.preprocessing import PowerTransformer\n",
    "from sklearn.preprocessing import StandardScaler\n",
    "from sklearn import preprocessing\n",
    "from sklearn.model_selection import train_test_split, StratifiedKFold, cross_val_score, cross_val_predict\n",
    "\n",
    "# machine learning models\n",
    "from sklearn.pipeline import make_pipeline, Pipeline\n",
    "from sklearn.linear_model import LogisticRegression\n",
    "from sklearn.tree import DecisionTreeClassifier\n",
    "from xgboost import XGBClassifier \n",
    "\n",
    "# imblean provides tools for us to deal with imbalanced class sizes\n",
    "from imblearn.over_sampling import SMOTE \n",
    "from imblearn.under_sampling import EditedNearestNeighbours\n",
    "from imblearn.combine import SMOTEENN\n",
    "from imblearn.pipeline import Pipeline\n",
    "\n",
    "\n",
    "# hyperopt - used for Bayesian hyperparameter tuning\n",
    "from hyperopt import hp, fmin, tpe, STATUS_OK, Trials, space_eval\n",
    "from hyperopt.pyll import scope as ho_scope\n",
    "from hyperopt.pyll.stochastic import sample as ho_sample\n",
    "from functools import partial\n",
    "\n",
    "# for evaluation of machine learning models\n",
    "from sklearn.metrics import accuracy_score, precision_score, recall_score, f1_score, auc, log_loss\n",
    "from sklearn.metrics import confusion_matrix, classification_report, matthews_corrcoef\n",
    "from sklearn.model_selection import cross_val_score\n",
    "from sklearn.metrics import confusion_matrix, average_precision_score, roc_auc_score, fbeta_score\n",
    "from sklearn.metrics import precision_recall_curve, plot_precision_recall_curve, roc_curve, plot_roc_curve\n",
    "from sklearn.model_selection import RepeatedStratifiedKFold\n",
    "from sklearn.model_selection import RandomizedSearchCV\n",
    "\n",
    "# for timing\n",
    "from time import time\n",
    "from tqdm import tqdm\n",
    "\n",
    "import warnings\n",
    "\n",
    "np.random.seed(1)"
   ]
  },
  {
   "cell_type": "code",
   "execution_count": 24,
   "metadata": {},
   "outputs": [],
   "source": [
    "import matplotlib.pyplot as plt\n",
    "\n",
    "plt.rcParams[\"figure.figsize\"] = (9,8)\n"
   ]
  },
  {
   "cell_type": "code",
   "execution_count": 25,
   "metadata": {},
   "outputs": [],
   "source": [
    "warnings.filterwarnings('ignore')"
   ]
  },
  {
   "cell_type": "code",
   "execution_count": 26,
   "metadata": {},
   "outputs": [],
   "source": [
    "df = pd.read_excel('C:/Y4S1/BT4016/Assignment/train.xlsx')"
   ]
  },
  {
   "cell_type": "code",
   "execution_count": 27,
   "metadata": {},
   "outputs": [
    {
     "data": {
      "text/html": [
       "<div>\n",
       "<style scoped>\n",
       "    .dataframe tbody tr th:only-of-type {\n",
       "        vertical-align: middle;\n",
       "    }\n",
       "\n",
       "    .dataframe tbody tr th {\n",
       "        vertical-align: top;\n",
       "    }\n",
       "\n",
       "    .dataframe thead th {\n",
       "        text-align: right;\n",
       "    }\n",
       "</style>\n",
       "<table border=\"1\" class=\"dataframe\">\n",
       "  <thead>\n",
       "    <tr style=\"text-align: right;\">\n",
       "      <th></th>\n",
       "      <th>gvkey</th>\n",
       "      <th>datadate</th>\n",
       "      <th>conm</th>\n",
       "      <th>at</th>\n",
       "      <th>cogs</th>\n",
       "      <th>csho</th>\n",
       "      <th>dvp</th>\n",
       "      <th>ebit</th>\n",
       "      <th>gp</th>\n",
       "      <th>ib</th>\n",
       "      <th>...</th>\n",
       "      <th>xido</th>\n",
       "      <th>xopr</th>\n",
       "      <th>mkvalt</th>\n",
       "      <th>sic</th>\n",
       "      <th>bankrupt</th>\n",
       "      <th>Altman_X1</th>\n",
       "      <th>Altman_X2</th>\n",
       "      <th>Altman_X3</th>\n",
       "      <th>Altman_X4</th>\n",
       "      <th>Altman_X5</th>\n",
       "    </tr>\n",
       "  </thead>\n",
       "  <tbody>\n",
       "    <tr>\n",
       "      <th>0</th>\n",
       "      <td>1240</td>\n",
       "      <td>2002-01-31</td>\n",
       "      <td>ALBERTSON'S INC</td>\n",
       "      <td>15967.000</td>\n",
       "      <td>26094.000</td>\n",
       "      <td>407.000</td>\n",
       "      <td>0.0</td>\n",
       "      <td>1787.000</td>\n",
       "      <td>11837.000</td>\n",
       "      <td>501.000</td>\n",
       "      <td>...</td>\n",
       "      <td>0.000</td>\n",
       "      <td>35118.000</td>\n",
       "      <td>11701.2500</td>\n",
       "      <td>5411</td>\n",
       "      <td>0</td>\n",
       "      <td>0.064320</td>\n",
       "      <td>0.339074</td>\n",
       "      <td>0.111918</td>\n",
       "      <td>1.164072</td>\n",
       "      <td>2.375587</td>\n",
       "    </tr>\n",
       "    <tr>\n",
       "      <th>1</th>\n",
       "      <td>1655</td>\n",
       "      <td>2002-01-31</td>\n",
       "      <td>ANGELICA CORP</td>\n",
       "      <td>290.865</td>\n",
       "      <td>246.466</td>\n",
       "      <td>8.608</td>\n",
       "      <td>0.0</td>\n",
       "      <td>12.856</td>\n",
       "      <td>103.597</td>\n",
       "      <td>1.629</td>\n",
       "      <td>...</td>\n",
       "      <td>-24.338</td>\n",
       "      <td>326.107</td>\n",
       "      <td>101.5744</td>\n",
       "      <td>7200</td>\n",
       "      <td>0</td>\n",
       "      <td>0.161449</td>\n",
       "      <td>0.488845</td>\n",
       "      <td>0.044199</td>\n",
       "      <td>0.680060</td>\n",
       "      <td>1.203524</td>\n",
       "    </tr>\n",
       "    <tr>\n",
       "      <th>2</th>\n",
       "      <td>1864</td>\n",
       "      <td>2002-01-31</td>\n",
       "      <td>REX AMERICAN RESOURCES CORP</td>\n",
       "      <td>307.329</td>\n",
       "      <td>325.912</td>\n",
       "      <td>8.163</td>\n",
       "      <td>0.0</td>\n",
       "      <td>22.236</td>\n",
       "      <td>138.591</td>\n",
       "      <td>22.554</td>\n",
       "      <td>...</td>\n",
       "      <td>-0.245</td>\n",
       "      <td>438.069</td>\n",
       "      <td>240.4004</td>\n",
       "      <td>2860</td>\n",
       "      <td>0</td>\n",
       "      <td>0.300186</td>\n",
       "      <td>0.438319</td>\n",
       "      <td>0.072352</td>\n",
       "      <td>1.508575</td>\n",
       "      <td>1.511419</td>\n",
       "    </tr>\n",
       "    <tr>\n",
       "      <th>3</th>\n",
       "      <td>1878</td>\n",
       "      <td>2002-01-31</td>\n",
       "      <td>AUTODESK INC</td>\n",
       "      <td>902.444</td>\n",
       "      <td>124.903</td>\n",
       "      <td>55.644</td>\n",
       "      <td>0.0</td>\n",
       "      <td>131.804</td>\n",
       "      <td>822.588</td>\n",
       "      <td>90.313</td>\n",
       "      <td>...</td>\n",
       "      <td>0.000</td>\n",
       "      <td>768.484</td>\n",
       "      <td>2281.4040</td>\n",
       "      <td>7370</td>\n",
       "      <td>0</td>\n",
       "      <td>0.214106</td>\n",
       "      <td>0.079664</td>\n",
       "      <td>0.146052</td>\n",
       "      <td>6.114234</td>\n",
       "      <td>1.049917</td>\n",
       "    </tr>\n",
       "    <tr>\n",
       "      <th>4</th>\n",
       "      <td>2436</td>\n",
       "      <td>2002-01-31</td>\n",
       "      <td>CALERES INC</td>\n",
       "      <td>700.898</td>\n",
       "      <td>1044.110</td>\n",
       "      <td>17.484</td>\n",
       "      <td>0.0</td>\n",
       "      <td>54.842</td>\n",
       "      <td>711.738</td>\n",
       "      <td>0.949</td>\n",
       "      <td>...</td>\n",
       "      <td>-4.911</td>\n",
       "      <td>1674.299</td>\n",
       "      <td>278.6950</td>\n",
       "      <td>3140</td>\n",
       "      <td>0</td>\n",
       "      <td>0.321669</td>\n",
       "      <td>0.206953</td>\n",
       "      <td>0.078245</td>\n",
       "      <td>0.627350</td>\n",
       "      <td>2.505141</td>\n",
       "    </tr>\n",
       "    <tr>\n",
       "      <th>...</th>\n",
       "      <td>...</td>\n",
       "      <td>...</td>\n",
       "      <td>...</td>\n",
       "      <td>...</td>\n",
       "      <td>...</td>\n",
       "      <td>...</td>\n",
       "      <td>...</td>\n",
       "      <td>...</td>\n",
       "      <td>...</td>\n",
       "      <td>...</td>\n",
       "      <td>...</td>\n",
       "      <td>...</td>\n",
       "      <td>...</td>\n",
       "      <td>...</td>\n",
       "      <td>...</td>\n",
       "      <td>...</td>\n",
       "      <td>...</td>\n",
       "      <td>...</td>\n",
       "      <td>...</td>\n",
       "      <td>...</td>\n",
       "      <td>...</td>\n",
       "    </tr>\n",
       "    <tr>\n",
       "      <th>26814</th>\n",
       "      <td>287462</td>\n",
       "      <td>2011-12-31</td>\n",
       "      <td>FUTUREFUEL CORP</td>\n",
       "      <td>385.244</td>\n",
       "      <td>239.011</td>\n",
       "      <td>41.308</td>\n",
       "      <td>0.0</td>\n",
       "      <td>51.615</td>\n",
       "      <td>70.874</td>\n",
       "      <td>34.509</td>\n",
       "      <td>...</td>\n",
       "      <td>0.000</td>\n",
       "      <td>249.151</td>\n",
       "      <td>513.0454</td>\n",
       "      <td>2860</td>\n",
       "      <td>0</td>\n",
       "      <td>0.536611</td>\n",
       "      <td>0.090148</td>\n",
       "      <td>0.133980</td>\n",
       "      <td>5.288801</td>\n",
       "      <td>0.804386</td>\n",
       "    </tr>\n",
       "    <tr>\n",
       "      <th>26815</th>\n",
       "      <td>293884</td>\n",
       "      <td>2011-12-31</td>\n",
       "      <td>INTERXION HOLDING NV</td>\n",
       "      <td>965.556</td>\n",
       "      <td>132.021</td>\n",
       "      <td>66.129</td>\n",
       "      <td>0.0</td>\n",
       "      <td>76.970</td>\n",
       "      <td>184.922</td>\n",
       "      <td>33.175</td>\n",
       "      <td>...</td>\n",
       "      <td>0.000</td>\n",
       "      <td>192.824</td>\n",
       "      <td>889.4351</td>\n",
       "      <td>7370</td>\n",
       "      <td>0</td>\n",
       "      <td>0.103112</td>\n",
       "      <td>-0.191081</td>\n",
       "      <td>0.079716</td>\n",
       "      <td>1.657171</td>\n",
       "      <td>0.328249</td>\n",
       "    </tr>\n",
       "    <tr>\n",
       "      <th>26816</th>\n",
       "      <td>294524</td>\n",
       "      <td>2011-12-31</td>\n",
       "      <td>LYONDELLBASELL INDUSTRIES NV</td>\n",
       "      <td>22839.000</td>\n",
       "      <td>44889.000</td>\n",
       "      <td>569.340</td>\n",
       "      <td>0.0</td>\n",
       "      <td>4212.000</td>\n",
       "      <td>6146.000</td>\n",
       "      <td>2147.000</td>\n",
       "      <td>...</td>\n",
       "      <td>0.000</td>\n",
       "      <td>45892.000</td>\n",
       "      <td>18497.8566</td>\n",
       "      <td>2820</td>\n",
       "      <td>0</td>\n",
       "      <td>0.280967</td>\n",
       "      <td>0.018127</td>\n",
       "      <td>0.184421</td>\n",
       "      <td>1.517213</td>\n",
       "      <td>2.234555</td>\n",
       "    </tr>\n",
       "    <tr>\n",
       "      <th>26817</th>\n",
       "      <td>296318</td>\n",
       "      <td>2011-12-31</td>\n",
       "      <td>OCEAN RIG UDW INC</td>\n",
       "      <td>6015.355</td>\n",
       "      <td>284.000</td>\n",
       "      <td>131.697</td>\n",
       "      <td>0.0</td>\n",
       "      <td>217.645</td>\n",
       "      <td>415.649</td>\n",
       "      <td>95.298</td>\n",
       "      <td>...</td>\n",
       "      <td>0.000</td>\n",
       "      <td>321.639</td>\n",
       "      <td>1606.7034</td>\n",
       "      <td>1381</td>\n",
       "      <td>0</td>\n",
       "      <td>0.013940</td>\n",
       "      <td>-0.078596</td>\n",
       "      <td>0.036182</td>\n",
       "      <td>0.532568</td>\n",
       "      <td>0.116311</td>\n",
       "    </tr>\n",
       "    <tr>\n",
       "      <th>26818</th>\n",
       "      <td>297209</td>\n",
       "      <td>2011-12-31</td>\n",
       "      <td>PACIFIC DRILLING SA</td>\n",
       "      <td>4184.289</td>\n",
       "      <td>32.142</td>\n",
       "      <td>216.900</td>\n",
       "      <td>0.0</td>\n",
       "      <td>-28.844</td>\n",
       "      <td>33.289</td>\n",
       "      <td>-2.903</td>\n",
       "      <td>...</td>\n",
       "      <td>0.000</td>\n",
       "      <td>82.656</td>\n",
       "      <td>2017.1700</td>\n",
       "      <td>1381</td>\n",
       "      <td>0</td>\n",
       "      <td>0.027594</td>\n",
       "      <td>-0.017284</td>\n",
       "      <td>-0.006893</td>\n",
       "      <td>1.055991</td>\n",
       "      <td>0.015637</td>\n",
       "    </tr>\n",
       "  </tbody>\n",
       "</table>\n",
       "<p>26819 rows × 30 columns</p>\n",
       "</div>"
      ],
      "text/plain": [
       "        gvkey   datadate                          conm         at       cogs  \\\n",
       "0        1240 2002-01-31               ALBERTSON'S INC  15967.000  26094.000   \n",
       "1        1655 2002-01-31                 ANGELICA CORP    290.865    246.466   \n",
       "2        1864 2002-01-31   REX AMERICAN RESOURCES CORP    307.329    325.912   \n",
       "3        1878 2002-01-31                  AUTODESK INC    902.444    124.903   \n",
       "4        2436 2002-01-31                   CALERES INC    700.898   1044.110   \n",
       "...       ...        ...                           ...        ...        ...   \n",
       "26814  287462 2011-12-31               FUTUREFUEL CORP    385.244    239.011   \n",
       "26815  293884 2011-12-31          INTERXION HOLDING NV    965.556    132.021   \n",
       "26816  294524 2011-12-31  LYONDELLBASELL INDUSTRIES NV  22839.000  44889.000   \n",
       "26817  296318 2011-12-31             OCEAN RIG UDW INC   6015.355    284.000   \n",
       "26818  297209 2011-12-31           PACIFIC DRILLING SA   4184.289     32.142   \n",
       "\n",
       "          csho  dvp      ebit         gp        ib  ...    xido       xopr  \\\n",
       "0      407.000  0.0  1787.000  11837.000   501.000  ...   0.000  35118.000   \n",
       "1        8.608  0.0    12.856    103.597     1.629  ... -24.338    326.107   \n",
       "2        8.163  0.0    22.236    138.591    22.554  ...  -0.245    438.069   \n",
       "3       55.644  0.0   131.804    822.588    90.313  ...   0.000    768.484   \n",
       "4       17.484  0.0    54.842    711.738     0.949  ...  -4.911   1674.299   \n",
       "...        ...  ...       ...        ...       ...  ...     ...        ...   \n",
       "26814   41.308  0.0    51.615     70.874    34.509  ...   0.000    249.151   \n",
       "26815   66.129  0.0    76.970    184.922    33.175  ...   0.000    192.824   \n",
       "26816  569.340  0.0  4212.000   6146.000  2147.000  ...   0.000  45892.000   \n",
       "26817  131.697  0.0   217.645    415.649    95.298  ...   0.000    321.639   \n",
       "26818  216.900  0.0   -28.844     33.289    -2.903  ...   0.000     82.656   \n",
       "\n",
       "           mkvalt   sic  bankrupt  Altman_X1  Altman_X2  Altman_X3  Altman_X4  \\\n",
       "0      11701.2500  5411         0   0.064320   0.339074   0.111918   1.164072   \n",
       "1        101.5744  7200         0   0.161449   0.488845   0.044199   0.680060   \n",
       "2        240.4004  2860         0   0.300186   0.438319   0.072352   1.508575   \n",
       "3       2281.4040  7370         0   0.214106   0.079664   0.146052   6.114234   \n",
       "4        278.6950  3140         0   0.321669   0.206953   0.078245   0.627350   \n",
       "...           ...   ...       ...        ...        ...        ...        ...   \n",
       "26814    513.0454  2860         0   0.536611   0.090148   0.133980   5.288801   \n",
       "26815    889.4351  7370         0   0.103112  -0.191081   0.079716   1.657171   \n",
       "26816  18497.8566  2820         0   0.280967   0.018127   0.184421   1.517213   \n",
       "26817   1606.7034  1381         0   0.013940  -0.078596   0.036182   0.532568   \n",
       "26818   2017.1700  1381         0   0.027594  -0.017284  -0.006893   1.055991   \n",
       "\n",
       "       Altman_X5  \n",
       "0       2.375587  \n",
       "1       1.203524  \n",
       "2       1.511419  \n",
       "3       1.049917  \n",
       "4       2.505141  \n",
       "...          ...  \n",
       "26814   0.804386  \n",
       "26815   0.328249  \n",
       "26816   2.234555  \n",
       "26817   0.116311  \n",
       "26818   0.015637  \n",
       "\n",
       "[26819 rows x 30 columns]"
      ]
     },
     "execution_count": 27,
     "metadata": {},
     "output_type": "execute_result"
    }
   ],
   "source": [
    "df_train = df.copy()\n",
    "df_train"
   ]
  },
  {
   "cell_type": "code",
   "execution_count": 28,
   "metadata": {},
   "outputs": [],
   "source": [
    "# Preparing other data\n",
    "\n",
    "labels = df_train['bankrupt']\n",
    "train_df = df_train.copy()\n",
    "\n",
    "train_df_industry = df_train.copy()\n",
    "train_df_industry['industry'] = train_df_industry['sic'].astype(str).str[:-1]\n",
    "industry_dummy = pd.get_dummies(train_df_industry['industry'], prefix='industry')\n",
    "train_df_industry = train_df_industry.join([industry_dummy])\n",
    "\n",
    "\n",
    "train_df_division = df_train.copy()\n",
    "train_df_division['division'] = train_df_division['sic'].astype(str).str[:-2]\n",
    "division_dummy = pd.get_dummies(train_df_division['division'], prefix='division')\n",
    "train_df_division = train_df_division.join([division_dummy])\n",
    "\n",
    "train_df = train_df.drop(columns= ['gvkey', 'datadate', 'conm', 'bankrupt','sic'])\n",
    "train_df_industry = train_df_industry.drop(columns= ['gvkey', 'datadate', 'conm', 'bankrupt','sic', 'industry'])\n",
    "train_df_division = train_df_division.drop(columns= ['gvkey', 'datadate', 'conm', 'bankrupt','sic', 'division'])"
   ]
  },
  {
   "cell_type": "code",
   "execution_count": 29,
   "metadata": {},
   "outputs": [],
   "source": [
    "df_test = pd.read_csv('C:/Y4S1/BT4016/Assignment/test.csv')"
   ]
  },
  {
   "cell_type": "code",
   "execution_count": 30,
   "metadata": {},
   "outputs": [
    {
     "data": {
      "text/html": [
       "<div>\n",
       "<style scoped>\n",
       "    .dataframe tbody tr th:only-of-type {\n",
       "        vertical-align: middle;\n",
       "    }\n",
       "\n",
       "    .dataframe tbody tr th {\n",
       "        vertical-align: top;\n",
       "    }\n",
       "\n",
       "    .dataframe thead th {\n",
       "        text-align: right;\n",
       "    }\n",
       "</style>\n",
       "<table border=\"1\" class=\"dataframe\">\n",
       "  <thead>\n",
       "    <tr style=\"text-align: right;\">\n",
       "      <th></th>\n",
       "      <th>id</th>\n",
       "      <th>at</th>\n",
       "      <th>cogs</th>\n",
       "      <th>csho</th>\n",
       "      <th>dvp</th>\n",
       "      <th>ebit</th>\n",
       "      <th>gp</th>\n",
       "      <th>ib</th>\n",
       "      <th>lct</th>\n",
       "      <th>lt</th>\n",
       "      <th>...</th>\n",
       "      <th>xido</th>\n",
       "      <th>xopr</th>\n",
       "      <th>mkvalt</th>\n",
       "      <th>sic</th>\n",
       "      <th>Altman_X1</th>\n",
       "      <th>Altman_X2</th>\n",
       "      <th>Altman_X3</th>\n",
       "      <th>Altman_X4</th>\n",
       "      <th>Altman_X5</th>\n",
       "      <th>bankrupt</th>\n",
       "    </tr>\n",
       "  </thead>\n",
       "  <tbody>\n",
       "    <tr>\n",
       "      <th>0</th>\n",
       "      <td>0</td>\n",
       "      <td>438.049</td>\n",
       "      <td>364.536</td>\n",
       "      <td>8.330</td>\n",
       "      <td>0.0</td>\n",
       "      <td>23.460</td>\n",
       "      <td>45.416</td>\n",
       "      <td>26.495</td>\n",
       "      <td>37.241</td>\n",
       "      <td>156.206</td>\n",
       "      <td>...</td>\n",
       "      <td>1.775</td>\n",
       "      <td>374.912</td>\n",
       "      <td>214.0810</td>\n",
       "      <td>2860</td>\n",
       "      <td>0.204995</td>\n",
       "      <td>0.740381</td>\n",
       "      <td>0.053556</td>\n",
       "      <td>1.370504</td>\n",
       "      <td>0.935859</td>\n",
       "      <td>NaN</td>\n",
       "    </tr>\n",
       "    <tr>\n",
       "      <th>1</th>\n",
       "      <td>1</td>\n",
       "      <td>3227.800</td>\n",
       "      <td>113.600</td>\n",
       "      <td>225.900</td>\n",
       "      <td>0.0</td>\n",
       "      <td>354.300</td>\n",
       "      <td>2102.000</td>\n",
       "      <td>285.300</td>\n",
       "      <td>954.100</td>\n",
       "      <td>1344.900</td>\n",
       "      <td>...</td>\n",
       "      <td>0.000</td>\n",
       "      <td>1745.800</td>\n",
       "      <td>8132.4000</td>\n",
       "      <td>7370</td>\n",
       "      <td>0.291778</td>\n",
       "      <td>0.160326</td>\n",
       "      <td>0.109765</td>\n",
       "      <td>6.046844</td>\n",
       "      <td>0.686412</td>\n",
       "      <td>NaN</td>\n",
       "    </tr>\n",
       "    <tr>\n",
       "      <th>2</th>\n",
       "      <td>2</td>\n",
       "      <td>1227.476</td>\n",
       "      <td>1520.884</td>\n",
       "      <td>41.971</td>\n",
       "      <td>0.0</td>\n",
       "      <td>65.410</td>\n",
       "      <td>1061.940</td>\n",
       "      <td>8.923</td>\n",
       "      <td>524.580</td>\n",
       "      <td>813.760</td>\n",
       "      <td>...</td>\n",
       "      <td>14.998</td>\n",
       "      <td>2458.303</td>\n",
       "      <td>396.6260</td>\n",
       "      <td>3140</td>\n",
       "      <td>0.236712</td>\n",
       "      <td>0.241455</td>\n",
       "      <td>0.053288</td>\n",
       "      <td>0.487399</td>\n",
       "      <td>2.104175</td>\n",
       "      <td>NaN</td>\n",
       "    </tr>\n",
       "    <tr>\n",
       "      <th>3</th>\n",
       "      <td>3</td>\n",
       "      <td>394.559</td>\n",
       "      <td>358.532</td>\n",
       "      <td>11.088</td>\n",
       "      <td>0.0</td>\n",
       "      <td>82.269</td>\n",
       "      <td>177.235</td>\n",
       "      <td>63.046</td>\n",
       "      <td>56.518</td>\n",
       "      <td>83.832</td>\n",
       "      <td>...</td>\n",
       "      <td>0.000</td>\n",
       "      <td>443.516</td>\n",
       "      <td>630.0202</td>\n",
       "      <td>3537</td>\n",
       "      <td>0.394286</td>\n",
       "      <td>0.739892</td>\n",
       "      <td>0.208509</td>\n",
       "      <td>7.515271</td>\n",
       "      <td>1.357888</td>\n",
       "      <td>NaN</td>\n",
       "    </tr>\n",
       "    <tr>\n",
       "      <th>4</th>\n",
       "      <td>4</td>\n",
       "      <td>551.089</td>\n",
       "      <td>574.176</td>\n",
       "      <td>29.163</td>\n",
       "      <td>0.0</td>\n",
       "      <td>96.475</td>\n",
       "      <td>357.282</td>\n",
       "      <td>64.834</td>\n",
       "      <td>156.993</td>\n",
       "      <td>184.410</td>\n",
       "      <td>...</td>\n",
       "      <td>0.000</td>\n",
       "      <td>813.158</td>\n",
       "      <td>781.8600</td>\n",
       "      <td>5621</td>\n",
       "      <td>0.493820</td>\n",
       "      <td>0.532903</td>\n",
       "      <td>0.175062</td>\n",
       "      <td>4.239792</td>\n",
       "      <td>1.690213</td>\n",
       "      <td>NaN</td>\n",
       "    </tr>\n",
       "    <tr>\n",
       "      <th>...</th>\n",
       "      <td>...</td>\n",
       "      <td>...</td>\n",
       "      <td>...</td>\n",
       "      <td>...</td>\n",
       "      <td>...</td>\n",
       "      <td>...</td>\n",
       "      <td>...</td>\n",
       "      <td>...</td>\n",
       "      <td>...</td>\n",
       "      <td>...</td>\n",
       "      <td>...</td>\n",
       "      <td>...</td>\n",
       "      <td>...</td>\n",
       "      <td>...</td>\n",
       "      <td>...</td>\n",
       "      <td>...</td>\n",
       "      <td>...</td>\n",
       "      <td>...</td>\n",
       "      <td>...</td>\n",
       "      <td>...</td>\n",
       "      <td>...</td>\n",
       "    </tr>\n",
       "    <tr>\n",
       "      <th>7706</th>\n",
       "      <td>7706</td>\n",
       "      <td>6077.301</td>\n",
       "      <td>459.617</td>\n",
       "      <td>215.784</td>\n",
       "      <td>0.0</td>\n",
       "      <td>370.978</td>\n",
       "      <td>626.177</td>\n",
       "      <td>188.257</td>\n",
       "      <td>572.826</td>\n",
       "      <td>3498.429</td>\n",
       "      <td>...</td>\n",
       "      <td>0.000</td>\n",
       "      <td>515.479</td>\n",
       "      <td>1001.2378</td>\n",
       "      <td>1381</td>\n",
       "      <td>-0.003525</td>\n",
       "      <td>0.035461</td>\n",
       "      <td>0.061043</td>\n",
       "      <td>0.286196</td>\n",
       "      <td>0.178664</td>\n",
       "      <td>NaN</td>\n",
       "    </tr>\n",
       "    <tr>\n",
       "      <th>7707</th>\n",
       "      <td>7707</td>\n",
       "      <td>4557.600</td>\n",
       "      <td>324.400</td>\n",
       "      <td>182.067</td>\n",
       "      <td>232.7</td>\n",
       "      <td>124.900</td>\n",
       "      <td>518.800</td>\n",
       "      <td>-29.900</td>\n",
       "      <td>242.600</td>\n",
       "      <td>2005.000</td>\n",
       "      <td>...</td>\n",
       "      <td>0.000</td>\n",
       "      <td>631.600</td>\n",
       "      <td>4227.5957</td>\n",
       "      <td>2890</td>\n",
       "      <td>0.293093</td>\n",
       "      <td>-0.077826</td>\n",
       "      <td>0.027405</td>\n",
       "      <td>2.108527</td>\n",
       "      <td>0.185010</td>\n",
       "      <td>NaN</td>\n",
       "    </tr>\n",
       "    <tr>\n",
       "      <th>7708</th>\n",
       "      <td>7708</td>\n",
       "      <td>1324.205</td>\n",
       "      <td>78.393</td>\n",
       "      <td>180.300</td>\n",
       "      <td>0.0</td>\n",
       "      <td>-62.001</td>\n",
       "      <td>-29.406</td>\n",
       "      <td>-116.565</td>\n",
       "      <td>20.342</td>\n",
       "      <td>124.217</td>\n",
       "      <td>...</td>\n",
       "      <td>0.000</td>\n",
       "      <td>110.302</td>\n",
       "      <td>355.1910</td>\n",
       "      <td>4412</td>\n",
       "      <td>0.258538</td>\n",
       "      <td>-0.092789</td>\n",
       "      <td>-0.046821</td>\n",
       "      <td>2.859440</td>\n",
       "      <td>0.036994</td>\n",
       "      <td>NaN</td>\n",
       "    </tr>\n",
       "    <tr>\n",
       "      <th>7709</th>\n",
       "      <td>7709</td>\n",
       "      <td>2015.900</td>\n",
       "      <td>1185.500</td>\n",
       "      <td>95.831</td>\n",
       "      <td>0.0</td>\n",
       "      <td>395.300</td>\n",
       "      <td>932.800</td>\n",
       "      <td>186.300</td>\n",
       "      <td>531.300</td>\n",
       "      <td>1997.400</td>\n",
       "      <td>...</td>\n",
       "      <td>-11.100</td>\n",
       "      <td>1679.000</td>\n",
       "      <td>5314.7873</td>\n",
       "      <td>3420</td>\n",
       "      <td>0.219505</td>\n",
       "      <td>-0.002877</td>\n",
       "      <td>0.196091</td>\n",
       "      <td>2.660853</td>\n",
       "      <td>1.050796</td>\n",
       "      <td>NaN</td>\n",
       "    </tr>\n",
       "    <tr>\n",
       "      <th>7710</th>\n",
       "      <td>7710</td>\n",
       "      <td>322.421</td>\n",
       "      <td>24.319</td>\n",
       "      <td>23.431</td>\n",
       "      <td>0.0</td>\n",
       "      <td>13.162</td>\n",
       "      <td>28.470</td>\n",
       "      <td>6.931</td>\n",
       "      <td>3.191</td>\n",
       "      <td>3.191</td>\n",
       "      <td>...</td>\n",
       "      <td>0.000</td>\n",
       "      <td>28.234</td>\n",
       "      <td>287.7327</td>\n",
       "      <td>4412</td>\n",
       "      <td>0.150586</td>\n",
       "      <td>0.000000</td>\n",
       "      <td>0.040822</td>\n",
       "      <td>90.170072</td>\n",
       "      <td>0.163727</td>\n",
       "      <td>NaN</td>\n",
       "    </tr>\n",
       "  </tbody>\n",
       "</table>\n",
       "<p>7711 rows × 28 columns</p>\n",
       "</div>"
      ],
      "text/plain": [
       "        id        at      cogs     csho    dvp     ebit        gp       ib  \\\n",
       "0        0   438.049   364.536    8.330    0.0   23.460    45.416   26.495   \n",
       "1        1  3227.800   113.600  225.900    0.0  354.300  2102.000  285.300   \n",
       "2        2  1227.476  1520.884   41.971    0.0   65.410  1061.940    8.923   \n",
       "3        3   394.559   358.532   11.088    0.0   82.269   177.235   63.046   \n",
       "4        4   551.089   574.176   29.163    0.0   96.475   357.282   64.834   \n",
       "...    ...       ...       ...      ...    ...      ...       ...      ...   \n",
       "7706  7706  6077.301   459.617  215.784    0.0  370.978   626.177  188.257   \n",
       "7707  7707  4557.600   324.400  182.067  232.7  124.900   518.800  -29.900   \n",
       "7708  7708  1324.205    78.393  180.300    0.0  -62.001   -29.406 -116.565   \n",
       "7709  7709  2015.900  1185.500   95.831    0.0  395.300   932.800  186.300   \n",
       "7710  7710   322.421    24.319   23.431    0.0   13.162    28.470    6.931   \n",
       "\n",
       "          lct        lt  ...    xido      xopr     mkvalt   sic  Altman_X1  \\\n",
       "0      37.241   156.206  ...   1.775   374.912   214.0810  2860   0.204995   \n",
       "1     954.100  1344.900  ...   0.000  1745.800  8132.4000  7370   0.291778   \n",
       "2     524.580   813.760  ...  14.998  2458.303   396.6260  3140   0.236712   \n",
       "3      56.518    83.832  ...   0.000   443.516   630.0202  3537   0.394286   \n",
       "4     156.993   184.410  ...   0.000   813.158   781.8600  5621   0.493820   \n",
       "...       ...       ...  ...     ...       ...        ...   ...        ...   \n",
       "7706  572.826  3498.429  ...   0.000   515.479  1001.2378  1381  -0.003525   \n",
       "7707  242.600  2005.000  ...   0.000   631.600  4227.5957  2890   0.293093   \n",
       "7708   20.342   124.217  ...   0.000   110.302   355.1910  4412   0.258538   \n",
       "7709  531.300  1997.400  ... -11.100  1679.000  5314.7873  3420   0.219505   \n",
       "7710    3.191     3.191  ...   0.000    28.234   287.7327  4412   0.150586   \n",
       "\n",
       "      Altman_X2  Altman_X3  Altman_X4  Altman_X5  bankrupt  \n",
       "0      0.740381   0.053556   1.370504   0.935859       NaN  \n",
       "1      0.160326   0.109765   6.046844   0.686412       NaN  \n",
       "2      0.241455   0.053288   0.487399   2.104175       NaN  \n",
       "3      0.739892   0.208509   7.515271   1.357888       NaN  \n",
       "4      0.532903   0.175062   4.239792   1.690213       NaN  \n",
       "...         ...        ...        ...        ...       ...  \n",
       "7706   0.035461   0.061043   0.286196   0.178664       NaN  \n",
       "7707  -0.077826   0.027405   2.108527   0.185010       NaN  \n",
       "7708  -0.092789  -0.046821   2.859440   0.036994       NaN  \n",
       "7709  -0.002877   0.196091   2.660853   1.050796       NaN  \n",
       "7710   0.000000   0.040822  90.170072   0.163727       NaN  \n",
       "\n",
       "[7711 rows x 28 columns]"
      ]
     },
     "execution_count": 30,
     "metadata": {},
     "output_type": "execute_result"
    }
   ],
   "source": [
    "df_test"
   ]
  },
  {
   "cell_type": "code",
   "execution_count": 31,
   "metadata": {},
   "outputs": [],
   "source": [
    "# test data for later\n",
    "\n",
    "test_df_division = df_test.copy()\n",
    "test_df_division['division'] = test_df_division['sic'].astype(str).str[:-2]\n",
    "division_dummy = pd.get_dummies(test_df_division['division'], prefix='division')\n",
    "test_df_division = test_df_division.join([division_dummy])\n",
    "test_df_division['division_8'] = 0\n",
    "test_df_division['division_9'] = 0\n",
    "\n",
    "test_df_division = test_df_division.drop(columns = ['id', 'sic','division', 'bankrupt'])"
   ]
  },
  {
   "cell_type": "markdown",
   "metadata": {},
   "source": [
    "### Q1 \n",
    "Altman Z-Score = 1.2A + 1.4B + 3.3C + 0.6D + 1.0E\n",
    "\n",
    "Where:\n",
    "- A = working capital / total assets\n",
    "- B = retained earnings / total assets\n",
    "- C = earnings before interest and tax / total assets\n",
    "- D = market value of equity / total liabilities\n",
    "- E = sales / total assets\n",
    "\n",
    "The lower the Z-score, the higher the odds that a company is heading for bankruptcy"
   ]
  },
  {
   "cell_type": "markdown",
   "metadata": {},
   "source": [
    "#### Calculation of Altman Z_Score"
   ]
  },
  {
   "cell_type": "code",
   "execution_count": 32,
   "metadata": {},
   "outputs": [],
   "source": [
    "def calulate_zscore(row):\n",
    "    value = 1.2*row.loc['Altman_X1'] + 1.4*row.loc['Altman_X2'] + 3.3*row.loc['Altman_X3'] + 0.6*row.loc['Altman_X4'] + 1*row.loc['Altman_X5']\n",
    "    return value"
   ]
  },
  {
   "cell_type": "code",
   "execution_count": 33,
   "metadata": {},
   "outputs": [],
   "source": [
    "def calulate_altman(row):\n",
    "    value = row.loc['Z_score']\n",
    "    if value<2.675:\n",
    "        return 1\n",
    "    else:\n",
    "        return 0"
   ]
  },
  {
   "cell_type": "code",
   "execution_count": 34,
   "metadata": {},
   "outputs": [],
   "source": [
    "df_train['Z_score'] = df_train.apply(lambda x: calulate_zscore(x), axis =1)\n",
    "df_train['Altman_classification'] = df_train.apply(lambda x: calulate_altman(x), axis =1)"
   ]
  },
  {
   "cell_type": "markdown",
   "metadata": {},
   "source": [
    "#### Evaluation of Altman Classification"
   ]
  },
  {
   "cell_type": "code",
   "execution_count": 35,
   "metadata": {},
   "outputs": [],
   "source": [
    "def evaluate_performance(y_true, y_pred, name_of_model):\n",
    "    no_danger, possible_bankruptcy = Counter(y_pred)[0], Counter(y_pred)[1]\n",
    "    print(f'As per {name_of_model}, there are {no_danger} companies with no risk and {possible_bankruptcy} companies at risk of bankruptcy\\n\\n')\n",
    "    \n",
    "    cm = confusion_matrix(y_true, y_pred)\n",
    "    TN, FP, FN, TP = cm.ravel()\n",
    "    f = sns.heatmap(cm, annot=True, cmap=\"Blues\", fmt='d')\n",
    "    print('Confusion Matrix\\n')\n",
    "    print(cm)\n",
    "    print(\"\\n\")\n",
    "    print(\"TN: %s, FP: %s, FN: %s, TP: %s\" %(TN, FP, FN, TP))\n",
    "    print(\"\\n\")\n",
    "    plt.show()\n",
    "    \n",
    "    f_score = f1_score(y_true, y_pred)\n",
    "    print(f'F1 Score: {f_score}')\n",
    "    \n",
    "    return cm, f_score"
   ]
  },
  {
   "cell_type": "code",
   "execution_count": 36,
   "metadata": {},
   "outputs": [
    {
     "name": "stdout",
     "output_type": "stream",
     "text": [
      "As per Altman Classification with Z_score, there are 15450 companies with no risk and 11369 companies at risk of bankruptcy\n",
      "\n",
      "\n",
      "Confusion Matrix\n",
      "\n",
      "[[15433 11205]\n",
      " [   17   164]]\n",
      "\n",
      "\n",
      "TN: 15433, FP: 11205, FN: 17, TP: 164\n",
      "\n",
      "\n"
     ]
    },
    {
     "data": {
      "image/png": "[encoded data removed]",
      "text/plain": [
       "<Figure size 648x576 with 2 Axes>"
      ]
     },
     "metadata": {
      "needs_background": "light"
     },
     "output_type": "display_data"
    },
    {
     "name": "stdout",
     "output_type": "stream",
     "text": [
      "F1 Score: 0.028398268398268398\n"
     ]
    }
   ],
   "source": [
    "altman_cm, altman_f1 = evaluate_performance(df_train['bankrupt'], df_train['Altman_classification'], 'Altman Classification with Z_score')"
   ]
  },
  {
   "cell_type": "markdown",
   "metadata": {},
   "source": [
    "### Q2\n",
    "- Prediction model: Logistic regression and CART decision tree with default parameters\n",
    "- Input features: the 5 financial ratios in Q1. \n",
    "- 5-fold stratified cross validation performance of training data with shuffle=False "
   ]
  },
  {
   "cell_type": "code",
   "execution_count": 37,
   "metadata": {},
   "outputs": [],
   "source": [
    "altman_columnns = [col for col in df_train.columns if 'Altman' in col][:-1]\n",
    "df_train_altman = df_train[altman_columnns]"
   ]
  },
  {
   "cell_type": "code",
   "execution_count": 38,
   "metadata": {},
   "outputs": [],
   "source": [
    "def build_model(features, label, model, smote=None):\n",
    "    all_y_true = [] \n",
    "    all_y_preds = [] \n",
    "    \n",
    "    kf = StratifiedKFold(n_splits=5, shuffle=False)\n",
    "    kf.get_n_splits(features, label)\n",
    "    \n",
    "\n",
    "    for train_index, test_index in kf.split(features, label):\n",
    "        \n",
    "        X_train, X_test = features.iloc[train_index], features.iloc[test_index]\n",
    "        y_train, y_test = label.iloc[train_index], label.iloc[test_index]\n",
    "        \n",
    "        if smote=='Smote':\n",
    "            smote_only = SMOTE(random_state=1, sampling_strategy=0.1)\n",
    "            X_train, y_train = smote_only.fit_resample(X_train, y_train)\n",
    "        \n",
    "        if smote=='SmoteENN':\n",
    "            smote_only = SMOTE(random_state=1, sampling_strategy=0.1)\n",
    "            ennObj = EditedNearestNeighbours(n_neighbors=5)\n",
    "            smote_enn = SMOTEENN(smote=smote_only , enn= ennObj)\n",
    "            X_train, y_train = smote_enn.fit_resample(X_train, y_train)\n",
    "\n",
    "\n",
    "\n",
    "        model.fit(X_train, y_train)\n",
    "        y_preds = model.predict(X_test)\n",
    "        all_y_true.extend(y_test)\n",
    "        all_y_preds.extend(y_preds)\n",
    "    \n",
    "    return all_y_true, all_y_preds"
   ]
  },
  {
   "cell_type": "markdown",
   "metadata": {},
   "source": [
    "#### Logistic Regression"
   ]
  },
  {
   "cell_type": "code",
   "execution_count": 39,
   "metadata": {},
   "outputs": [
    {
     "name": "stdout",
     "output_type": "stream",
     "text": [
      "As per Logistic Regression, there are 26803 companies with no risk and 16 companies at risk of bankruptcy\n",
      "\n",
      "\n",
      "Confusion Matrix\n",
      "\n",
      "[[26630     8]\n",
      " [  173     8]]\n",
      "\n",
      "\n",
      "TN: 26630, FP: 8, FN: 173, TP: 8\n",
      "\n",
      "\n"
     ]
    },
    {
     "data": {
      "image/png": "[encoded data removed]",
      "text/plain": [
       "<Figure size 648x576 with 2 Axes>"
      ]
     },
     "metadata": {
      "needs_background": "light"
     },
     "output_type": "display_data"
    },
    {
     "name": "stdout",
     "output_type": "stream",
     "text": [
      "F1 Score: 0.08121827411167512\n"
     ]
    }
   ],
   "source": [
    "lr = LogisticRegression(random_state = 1)\n",
    "lr_true, lr_pred = build_model(df_train_altman, df_train['bankrupt'], lr)\n",
    "lr_cm,  lr_f1 = evaluate_performance(lr_true, lr_pred, 'Logistic Regression')"
   ]
  },
  {
   "cell_type": "markdown",
   "metadata": {},
   "source": [
    "#### CART Decision Tree"
   ]
  },
  {
   "cell_type": "code",
   "execution_count": 40,
   "metadata": {},
   "outputs": [
    {
     "name": "stdout",
     "output_type": "stream",
     "text": [
      "As per Decision Tree Classifier, there are 26618 companies with no risk and 201 companies at risk of bankruptcy\n",
      "\n",
      "\n",
      "Confusion Matrix\n",
      "\n",
      "[[26462   176]\n",
      " [  156    25]]\n",
      "\n",
      "\n",
      "TN: 26462, FP: 176, FN: 156, TP: 25\n",
      "\n",
      "\n"
     ]
    },
    {
     "data": {
      "image/png": "[encoded data removed]",
      "text/plain": [
       "<Figure size 648x576 with 2 Axes>"
      ]
     },
     "metadata": {
      "needs_background": "light"
     },
     "output_type": "display_data"
    },
    {
     "name": "stdout",
     "output_type": "stream",
     "text": [
      "F1 Score: 0.13089005235602091\n"
     ]
    }
   ],
   "source": [
    "dt = DecisionTreeClassifier(random_state = 1)\n",
    "dt_true, dt_pred = build_model(df_train_altman, df_train['bankrupt'], dt)\n",
    "dt_cm,  dt_f1 = evaluate_performance(dt_true, dt_pred, 'Decision Tree Classifier')"
   ]
  },
  {
   "cell_type": "markdown",
   "metadata": {},
   "source": [
    "### Q3\n",
    "Dealing with unbalanced dataset using CART decision tree\n",
    "- (1) SMOTE for oversampling to target a 1:10 minority: majority ratio by setting sampling_strategy = 0.1  \n",
    "- (2) SMOTE (1:10 ratio) + Edited NN (5-NN method) \n",
    "- (3) Over-weighting rows with label=1 by 10 times (using class_weight variable in DecisionTreeClassifier) \n",
    "\n",
    "- 5-fold stratified cross validation confusion matrix and F1 score and shuffle=False"
   ]
  },
  {
   "cell_type": "markdown",
   "metadata": {},
   "source": [
    "#### (1) SMOTE for oversampling to target a 1:10 minority: majority ratio"
   ]
  },
  {
   "cell_type": "code",
   "execution_count": 41,
   "metadata": {},
   "outputs": [
    {
     "name": "stdout",
     "output_type": "stream",
     "text": [
      "As per Decision Tree Classifier, there are 26161 companies with no risk and 658 companies at risk of bankruptcy\n",
      "\n",
      "\n",
      "Confusion Matrix\n",
      "\n",
      "[[26026   612]\n",
      " [  135    46]]\n",
      "\n",
      "\n",
      "TN: 26026, FP: 612, FN: 135, TP: 46\n",
      "\n",
      "\n"
     ]
    },
    {
     "data": {
      "image/png": "[encoded data removed]",
      "text/plain": [
       "<Figure size 648x576 with 2 Axes>"
      ]
     },
     "metadata": {
      "needs_background": "light"
     },
     "output_type": "display_data"
    },
    {
     "name": "stdout",
     "output_type": "stream",
     "text": [
      "F1 Score: 0.1096543504171633\n"
     ]
    }
   ],
   "source": [
    "dt_smote = DecisionTreeClassifier(random_state = 1)\n",
    "dt_true_smote, dt_pred_smote = build_model(df_train_altman, df_train['bankrupt'], dt_smote, 'Smote')\n",
    "dt_cm_smote,  dt_f1_smote = evaluate_performance(dt_true_smote, dt_pred_smote, 'Decision Tree Classifier')"
   ]
  },
  {
   "cell_type": "markdown",
   "metadata": {},
   "source": [
    "#### (2) SMOTE (1:10 ratio) + Edited NN (5-NN method) "
   ]
  },
  {
   "cell_type": "code",
   "execution_count": 42,
   "metadata": {},
   "outputs": [
    {
     "name": "stdout",
     "output_type": "stream",
     "text": [
      "As per Decision Tree Classifier, there are 25804 companies with no risk and 1015 companies at risk of bankruptcy\n",
      "\n",
      "\n",
      "Confusion Matrix\n",
      "\n",
      "[[25697   941]\n",
      " [  107    74]]\n",
      "\n",
      "\n",
      "TN: 25697, FP: 941, FN: 107, TP: 74\n",
      "\n",
      "\n"
     ]
    },
    {
     "data": {
      "image/png": "[encoded data removed]",
      "text/plain": [
       "<Figure size 648x576 with 2 Axes>"
      ]
     },
     "metadata": {
      "needs_background": "light"
     },
     "output_type": "display_data"
    },
    {
     "name": "stdout",
     "output_type": "stream",
     "text": [
      "F1 Score: 0.1237458193979933\n"
     ]
    }
   ],
   "source": [
    "dt_smoteENN = DecisionTreeClassifier(random_state = 1)\n",
    "dt_true_smoteENN, dt_pred_smoteENN = build_model(df_train_altman, df_train['bankrupt'], dt_smoteENN, 'SmoteENN')\n",
    "dt_cm_smoteENN,  dt_f1_smoteENN = evaluate_performance(dt_true_smoteENN, dt_pred_smoteENN, 'Decision Tree Classifier')"
   ]
  },
  {
   "cell_type": "markdown",
   "metadata": {},
   "source": [
    "#### (3) Over-weighting rows with label=1 by 10 times"
   ]
  },
  {
   "cell_type": "code",
   "execution_count": 43,
   "metadata": {},
   "outputs": [
    {
     "name": "stdout",
     "output_type": "stream",
     "text": [
      "As per Decision Tree Classifier, there are 26605 companies with no risk and 214 companies at risk of bankruptcy\n",
      "\n",
      "\n",
      "Confusion Matrix\n",
      "\n",
      "[[26443   195]\n",
      " [  162    19]]\n",
      "\n",
      "\n",
      "TN: 26443, FP: 195, FN: 162, TP: 19\n",
      "\n",
      "\n"
     ]
    },
    {
     "data": {
      "image/png": "[encoded data removed]",
      "text/plain": [
       "<Figure size 648x576 with 2 Axes>"
      ]
     },
     "metadata": {
      "needs_background": "light"
     },
     "output_type": "display_data"
    },
    {
     "name": "stdout",
     "output_type": "stream",
     "text": [
      "F1 Score: 0.09620253164556962\n"
     ]
    }
   ],
   "source": [
    "dt_weight = DecisionTreeClassifier(random_state = 1, class_weight={0: 1, 1: 10})\n",
    "dt_true_weight, dt_pred_weight = build_model(df_train_altman, df_train['bankrupt'], dt_weight)\n",
    "dt_cm_weight,  dt_f1_weight = evaluate_performance(dt_true_weight, dt_pred_weight, 'Decision Tree Classifier')"
   ]
  },
  {
   "cell_type": "markdown",
   "metadata": {},
   "source": [
    "#### Evaluation of results for Q3\n",
    "It is unfortunate that none of the sampling methods have helped to improve the performance from the original decision tree classifier. The original decision tree model has a f1 score of 0.13. The SMOTE model and the SMOTE + ENN model have f1 scores of 0.11 and 0.12. This shows that the model is better off without the help of resampling methods. Needless to say, the class weights paramater, with a f1 score of 0.096 performed the worst. All of these results implicitly depicts the fact that the models suffer from a serious case of imbalanced dataset issue which is why their f1 scores were barely 0.15. \n"
   ]
  },
  {
   "cell_type": "markdown",
   "metadata": {},
   "source": [
    "### Q4\n",
    "XGBoost.\n",
    "- Handling unbalanced classification: All three methods in Q3 have been tested and only the results of one of the three methods that gives you the best performance in 5-fold cross-validation on your training dataset has been reported. \n",
    "- Input features: I have used 5 financial ratios, all accounting variables of A2, and industry classification code and dropped the other columns. Initially I tried with the industry column obtained with the SIC code. Then I tried with the major division column, obtained from the SIC code. \n",
    "- Hyperparamter Tuning: I have used Bayesian Optimization and RandomisedSearchCV for tuning\n",
    "Output: File with your predicted probability for the TA to evaluate your PR_AUC (not ROC_AUC)\n",
    "- I have also added the seed and explained how I reached my final model"
   ]
  },
  {
   "cell_type": "markdown",
   "metadata": {},
   "source": [
    "#### Required Helper Functions"
   ]
  },
  {
   "cell_type": "code",
   "execution_count": 44,
   "metadata": {},
   "outputs": [],
   "source": [
    "# Set model\n",
    "def instance_model(hyperparameters, eval_set):\n",
    "\n",
    "    if pd.DataFrame(hyperparameters.keys())[0][0] == 'xgb':\n",
    "        model = XGBClassifier(**hyperparameters['xgb'], \n",
    "                            n_jobs = -1,\n",
    "                            random_state = 42,\n",
    "                            early_stopping_rounds = 100,\n",
    "                            verbose = 1\n",
    "                             )  \n",
    "\n",
    "        # SMOTE: Synthetic Minority Oversampling Technique\n",
    "        if hyperparameters['xgb']['sample'] == 'smoteENN':\n",
    "            smote_only = SMOTE(random_state=1, sampling_strategy=0.1)\n",
    "            ennObj = EditedNearestNeighbours(n_neighbors=5)\n",
    "            undersample = SMOTEENN(smote=smote_only , enn= ennObj)\n",
    "                              \n",
    "            if hyperparameters['xgb']['power'] == True:\n",
    "                power = PowerTransformer(method='yeo-johnson', standardize=True)\n",
    "                model = Pipeline([('sampling', undersample),\n",
    "                                  ('power', power), ('xgb', model) ])\n",
    "            else: \n",
    "                model = Pipeline([('sampling', undersample), ('xgb', model) ])\n",
    "        \n",
    "        if hyperparameters['xgb']['sample'] == 'smote':\n",
    "            undersample = SMOTE(random_state=1, sampling_strategy=0.1)\n",
    "            \n",
    "            if hyperparameters['xgb']['power'] == True:\n",
    "                power = PowerTransformer(method='yeo-johnson', standardize=True)\n",
    "                model = Pipeline([('sampling', undersample),\n",
    "                                  ('power', power), ('xgb', model) ])\n",
    "            else: \n",
    "                model = Pipeline([('sampling', undersample), ('xgb', model) ])\n",
    "\n",
    "                \n",
    "        ## No resampling\n",
    "        else:\n",
    "            if hyperparameters['xgb']['power'] == True:\n",
    "                power = PowerTransformer(method='yeo-johnson', standardize=True)\n",
    "                model = Pipeline([('sampling', None), \n",
    "                                  ('power', power), ('xgb', model) ])\n",
    "            else:\n",
    "                model = Pipeline([('sampling', None), ('xgb', model) ])\n",
    "    \n",
    "    return model\n"
   ]
  },
  {
   "cell_type": "code",
   "execution_count": 45,
   "metadata": {},
   "outputs": [],
   "source": [
    "# objective function\n",
    "def to_minimize(hyperparameters, features, target):\n",
    "    # create an instance of the model \n",
    "    model = instance_model(hyperparameters)\n",
    "    \n",
    "    # train with cross-validation\n",
    "    resultado = cross_val_score(estimator = model, \n",
    "                                X = features, \n",
    "                                y = target, \n",
    "                                scoring = 'average_precision',\n",
    "                                cv = cv,\n",
    "                                n_jobs = -1,\n",
    "                                error_score='raise')\n",
    "    \n",
    "    return -resultado.mean()"
   ]
  },
  {
   "cell_type": "code",
   "execution_count": 46,
   "metadata": {},
   "outputs": [],
   "source": [
    "# function to get the optimization history\n",
    "\n",
    "def extract_space_eval(hp_space, trial):\n",
    "    \n",
    "    ## get resultst\n",
    "    desempacota_trial = space_eval(space = hp_space, \n",
    "                                   hp_assignment = {k: v[0] for (k, v) in trial['misc']['vals'].items() if len(v) > 0})\n",
    "    \n",
    "    return desempacota_trial"
   ]
  },
  {
   "cell_type": "code",
   "execution_count": 47,
   "metadata": {},
   "outputs": [],
   "source": [
    "# function to unpack dictionary\n",
    "\n",
    "def unpack_dictionary(dictionary):\n",
    "    unpacked = {}\n",
    "    for (key, value) in dictionary.items():\n",
    "        if isinstance(value, dict):\n",
    "            unpacked = {**unpacked, **unpack_dictionary(value)}\n",
    "        else:\n",
    "            unpacked[key] = value\n",
    "            \n",
    "    return unpacked\n",
    "\n"
   ]
  },
  {
   "cell_type": "code",
   "execution_count": 48,
   "metadata": {},
   "outputs": [],
   "source": [
    "# Metrics to evaluate model\n",
    "def evalue_model(model, y_test, X_test, model_name):\n",
    "    # predict\n",
    "    pred_prob = model.predict_proba(X_test)    \n",
    "    # pr curve to best threshold\n",
    "    precision, recall, thresholds = precision_recall_curve(y_test, pred_prob[:, 1])\n",
    "    # calcule fscore\n",
    "    fscore_f1  = (2*precision*recall)/(precision+recall) #f1\n",
    "    threshold_f1  = thresholds[np.argmax(fscore_f1)]\n",
    "    \n",
    "    # prob true class\n",
    "    pred_prob = [predicao[1] for predicao in pred_prob]\n",
    "    pred_class = [instancia >= threshold_f1 for instancia in pred_prob]\n",
    "\n",
    "    # metrics\n",
    "    dictionary = {'F1': fscore_f1,\n",
    "                  'recall': recall_score(y_true = y_test, y_pred = pred_class),\n",
    "                  'precision': precision_score(y_true=y_test,y_pred=pred_class),\n",
    "                  'logloss': log_loss(y_test, pred_prob),\n",
    "                  'auc': roc_auc_score(y_true = y_test, y_score = pred_prob),\n",
    "                  'aucpr': auc(recall, precision),\n",
    "                  'model_name': model_name}\n",
    "    \n",
    "    return dictionary"
   ]
  },
  {
   "cell_type": "code",
   "execution_count": 49,
   "metadata": {},
   "outputs": [],
   "source": [
    "# pr_auc plot\n",
    "def plot_auc_pr(name, labels, predictions,n=0.5, **kwargs):\n",
    "    p, r, _ = precision_recall_curve(labels, predictions)\n",
    "\n",
    "    plt.plot(100*r, 100*p, label=name, linewidth=2, **kwargs)\n",
    "    plt.xlabel('Recall [%]')\n",
    "    plt.ylabel('Precision [%]')\n",
    "    plt.xlim([-0.5,100])\n",
    "    plt.title('Precision-Recall Curve')\n",
    "    plt.ylim([20,100.5])\n",
    "    plt.grid(True)\n",
    "    ax = plt.gca()\n",
    "    ax.set_aspect('equal')"
   ]
  },
  {
   "cell_type": "code",
   "execution_count": 50,
   "metadata": {},
   "outputs": [],
   "source": [
    "def split_data(X, y):\n",
    "    X_train, X_test, y_train, y_test = train_test_split(X, y, test_size=0.2, random_state=42, stratify=y)\n",
    "\n",
    "    X_train = pd.DataFrame(X_train.values, columns=X.columns)\n",
    "    X_test  = pd.DataFrame(X_test.values, columns=X.columns)\n",
    "    y_train = y_train.values\n",
    "    y_test  = y_test.values\n",
    "\n",
    "    X_train, X_val, y_train, y_val = train_test_split(X_train, y_train, test_size=0.2, random_state=42, stratify=y_train)\n",
    "    eval_set = [(pd.DataFrame(X_val), pd.DataFrame(y_val))]\n",
    "\n",
    "    print(f\"Train: Bankruptcy = {sum(y_train)}, No Bankruptcy = {len(y_train) - sum(y_train)}\")\n",
    "    print(f\"Val: Bankruptcy = {sum(y_val)}, No Bankruptcy = {len(y_val) - sum(y_val)}\")\n",
    "    print(f\"Test: Bankruptcy = {sum(y_test)}, No Bankruptcy = {len(y_test) - sum(y_test)}\")\n",
    "\n",
    "    \n",
    "    \n",
    "    return X_train, X_test, y_train, y_test, eval_set"
   ]
  },
  {
   "cell_type": "code",
   "execution_count": 51,
   "metadata": {},
   "outputs": [],
   "source": [
    "# to run the model\n",
    "\n",
    "def run_xgb(X, y, XGB_param_hyperopt, iterations):\n",
    "    X_train, X_test, y_train, y_test, eval_set = split_data(X, y)\n",
    "    \n",
    "    cv = StratifiedKFold(n_splits=5, shuffle=True, random_state = 42)\n",
    "    \n",
    "    interactions_xgb = Trials()\n",
    "    \n",
    "    def to_minimize(hyperparameters, features, target):\n",
    "        model = instance_model(hyperparameters, eval_set)\n",
    "\n",
    "        # train with cross-validation\n",
    "        resultado = cross_val_score(estimator = model, \n",
    "                                    X = features, \n",
    "                                    y = target, \n",
    "                                    scoring = 'average_precision',\n",
    "                                    cv = cv,\n",
    "                                    n_jobs = -1,\n",
    "                                    error_score='raise')\n",
    "\n",
    "        return -resultado.mean()\n",
    "    \n",
    "    optimization = fmin(fn = partial(to_minimize, features = X_train, target = y_train),\n",
    "                  space = XGB_param_hyperopt, \n",
    "                  algo = tpe.suggest,\n",
    "                  trials = interactions_xgb,\n",
    "                  max_evals = iterations, \n",
    "                  rstate = np.random.RandomState(42))\n",
    "    \n",
    "    xgb_history = pd.DataFrame([unpack_dictionary(extract_space_eval(XGB_param_hyperopt, x)) for x in interactions_xgb.trials])    \n",
    "    xgb_history['average precision'] = pd.DataFrame(interactions_xgb.results).loss * -1\n",
    "    \n",
    "    selected_hyperparameters = space_eval(space = XGB_param_hyperopt, hp_assignment = optimization)\n",
    "    model_xgb_bayeshp = instance_model(selected_hyperparameters, eval_set)\n",
    "\n",
    "    print(\"Historical max Average Precision:\",f\"{xgb_history['average precision'].max():.3f} STD:{xgb_history['average precision'].std():.2f}\")\n",
    "\n",
    "    \n",
    "    return xgb_history, model_xgb_bayeshp"
   ]
  },
  {
   "cell_type": "markdown",
   "metadata": {},
   "source": [
    "#### Trial 1 with HyperOpt"
   ]
  },
  {
   "cell_type": "code",
   "execution_count": 52,
   "metadata": {},
   "outputs": [],
   "source": [
    "# choices source: https://github.com/microsoft/LightGBM/issues/695#issuecomment-315591634\n",
    "XGB_param_hyperopt = {\n",
    "    'xgb': {\n",
    "        'booster': hp.choice('booster', ['dart','gbtree']), \n",
    "        'learning_rate': hp.uniform('learning_rate', 0.05, 0.5),\n",
    "        'max_depth': ho_scope.int(hp.quniform('max_depth', 1, 20, 1)),\n",
    "        'subsample': hp.uniform('subsample', 0.1, 0.5),\n",
    "        'colsample_bytree': hp.uniform('colsample_bytree', 0.2, 0.7),\n",
    "        'colsample_bynode': hp.uniform('colsample_bynode', 0.1, 0.8),\n",
    "        'colsample_bylevel': hp.uniform('colsample_bylevel', 0.1, 0.4),\n",
    "        'gamma': hp.uniform('gamma', 1, 20),\n",
    "        'min_child_weight': hp.uniform('min_child_weight', 1.5, 2.5),\n",
    "        'reg_lambda': hp.uniform('reg_lambda', 1, 6),\n",
    "        'reg_alpha':hp.uniform('reg_alpha', 0.02, 0.1),\n",
    "        'sample':  hp.choice(label = 'sample', options = [None, 'smote', 'smoteENN']),\n",
    "        'power': hp.choice(label = 'power', options = [False, True])\n",
    "    }\n",
    "}"
   ]
  },
  {
   "cell_type": "code",
   "execution_count": 55,
   "metadata": {},
   "outputs": [
    {
     "name": "stdout",
     "output_type": "stream",
     "text": [
      "Train: Bankruptcy = 116, No Bankruptcy = 17048\n",
      "Val: Bankruptcy = 29, No Bankruptcy = 4262\n",
      "Test: Bankruptcy = 36, No Bankruptcy = 5328\n",
      "100%|██████████████████████████████████████████████| 45/45 [33:28<00:00, 44.64s/trial, best loss: -0.33282821536746443]\n",
      "Historical max Average Precision: 0.333 STD:0.05\n"
     ]
    }
   ],
   "source": [
    "xgb_history, xgb_initial_model = run_xgb(train_df_industry, labels, XGB_param_hyperopt, 45)"
   ]
  },
  {
   "cell_type": "markdown",
   "metadata": {},
   "source": [
    "#### Plotting results to understand the effect or each parameter"
   ]
  },
  {
   "cell_type": "code",
   "execution_count": 55,
   "metadata": {},
   "outputs": [
    {
     "data": {
      "text/plain": [
       "Text(0, 0.5, 'Average Precision')"
      ]
     },
     "execution_count": 55,
     "metadata": {},
     "output_type": "execute_result"
    },
    {
     "data": {
      "image/png": "[encoded data removed]",
      "text/plain": [
       "<Figure size 648x576 with 1 Axes>"
      ]
     },
     "metadata": {
      "needs_background": "light"
     },
     "output_type": "display_data"
    }
   ],
   "source": [
    "# Average precision over iterations\n",
    "\n",
    "sns.scatterplot(x = xgb_history.index, y = 'average precision', data = xgb_history)\n",
    "plt.title('Optimization History')\n",
    "plt.xlabel(xlabel = 'Interaction')\n",
    "plt.ylabel(ylabel = 'Average Precision')\n"
   ]
  },
  {
   "cell_type": "code",
   "execution_count": 56,
   "metadata": {},
   "outputs": [],
   "source": [
    "# Obtaining the best values for further visualisation\n",
    "xgb_history_best = xgb_history.sort_values(by=['average precision'], ascending = False)[:30]"
   ]
  },
  {
   "cell_type": "code",
   "execution_count": 57,
   "metadata": {},
   "outputs": [
    {
     "data": {
      "text/plain": [
       "Text(0, 0.5, 'Interactions')"
      ]
     },
     "execution_count": 57,
     "metadata": {},
     "output_type": "execute_result"
    },
    {
     "data": {
      "image/png": "[encoded data removed]",
      "text/plain": [
       "<Figure size 648x576 with 1 Axes>"
      ]
     },
     "metadata": {
      "needs_background": "light"
     },
     "output_type": "display_data"
    }
   ],
   "source": [
    "# Visualising sampling method\n",
    "\n",
    "xgb_history_best['sample'] = xgb_history_best['sample'].apply(lambda x: \"None\" if x is np.NaN else x)\n",
    "sns.countplot(x = 'sample', data = xgb_history_best)\n",
    "plt.title('Times each criterion was selected')\n",
    "plt.xlabel(xlabel = 'sample')\n",
    "plt.ylabel(ylabel = 'Interactions')"
   ]
  },
  {
   "cell_type": "code",
   "execution_count": 58,
   "metadata": {},
   "outputs": [
    {
     "data": {
      "text/plain": [
       "Text(0, 0.5, 'Interactions')"
      ]
     },
     "execution_count": 58,
     "metadata": {},
     "output_type": "execute_result"
    },
    {
     "data": {
      "image/png": "[encoded data removed]",
      "text/plain": [
       "<Figure size 648x576 with 1 Axes>"
      ]
     },
     "metadata": {
      "needs_background": "light"
     },
     "output_type": "display_data"
    }
   ],
   "source": [
    "# Visualising the number of times standard scaler was used\n",
    "\n",
    "sns.countplot(x = 'power', data = xgb_history_best)\n",
    "plt.title('Times each criterion was selected')\n",
    "plt.xlabel(xlabel = 'YeoJhonson')\n",
    "plt.ylabel(ylabel = 'Interactions')"
   ]
  },
  {
   "cell_type": "code",
   "execution_count": 59,
   "metadata": {},
   "outputs": [
    {
     "data": {
      "text/plain": [
       "Text(0, 0.5, 'Interactions')"
      ]
     },
     "execution_count": 59,
     "metadata": {},
     "output_type": "execute_result"
    },
    {
     "data": {
      "image/png": "[encoded data removed]",
      "text/plain": [
       "<Figure size 648x576 with 1 Axes>"
      ]
     },
     "metadata": {
      "needs_background": "light"
     },
     "output_type": "display_data"
    }
   ],
   "source": [
    "# Visualising the number of times each value of max depth was chosen\n",
    "\n",
    "sns.countplot(x = 'max_depth', data = xgb_history)\n",
    "plt.title('Times each criterion was selected')\n",
    "plt.xlabel(xlabel = 'YeoJhonson')\n",
    "plt.ylabel(ylabel = 'Interactions')"
   ]
  },
  {
   "cell_type": "markdown",
   "metadata": {},
   "source": [
    "### Comparison with Baseline Method"
   ]
  },
  {
   "cell_type": "code",
   "execution_count": 60,
   "metadata": {},
   "outputs": [
    {
     "name": "stdout",
     "output_type": "stream",
     "text": [
      "Train: Bankruptcy = 116, No Bankruptcy = 17048\n",
      "Val: Bankruptcy = 29, No Bankruptcy = 4262\n",
      "Test: Bankruptcy = 36, No Bankruptcy = 5328\n"
     ]
    }
   ],
   "source": [
    "X_train, X_test, y_train, y_test, eval_set = split_data(train_df_industry, labels)\n",
    "\n",
    "cv = StratifiedKFold(n_splits=5, shuffle=True, random_state = 42)"
   ]
  },
  {
   "cell_type": "code",
   "execution_count": 73,
   "metadata": {},
   "outputs": [
    {
     "name": "stdout",
     "output_type": "stream",
     "text": [
      "cross-validation Average Precision: 0.273 STD:0.06\n"
     ]
    }
   ],
   "source": [
    "# baseline model with smoteENN\n",
    "\n",
    "model_xgb_base = XGBClassifier(n_jobs = -1, random_state = 42,is_unbalance = True, eval_set = eval_set, early_stopping_rounds = 100,\n",
    "                            verbose = 1)\n",
    "\n",
    "smote_only = SMOTE(random_state=1, sampling_strategy=0.1)\n",
    "ennObj = EditedNearestNeighbours(n_neighbors=5)\n",
    "undersample = SMOTEENN(smote=smote_only , enn= ennObj)\n",
    "\n",
    "model_xgb_baseline = Pipeline([('sample', undersample), \n",
    "                                ('xgb', model_xgb_base) ])\n",
    "\n",
    "model_xgb_baseline_cv = cross_val_score(model_xgb_baseline, X_train, y_train, \n",
    "                                        cv = cv, \n",
    "                                        scoring = 'average_precision', \n",
    "                                        n_jobs=-1, \n",
    "                                         error_score='raise')\n",
    "\n",
    "print(\"cross-validation Average Precision:\",f\"{model_xgb_baseline_cv.mean():.3f} STD:{model_xgb_baseline_cv.std():.2f}\")"
   ]
  },
  {
   "cell_type": "code",
   "execution_count": 124,
   "metadata": {},
   "outputs": [
    {
     "name": "stdout",
     "output_type": "stream",
     "text": [
      "Running XGBBaseline\n",
      "[12:57:33] WARNING: C:/Users/Administrator/workspace/xgboost-win64_release_1.5.0/src/learner.cc:576: \n",
      "Parameters: { \"early_stopping_rounds\", \"eval_set\", \"is_unbalance\", \"verbose\" } might not be used.\n",
      "\n",
      "  This could be a false alarm, with some parameters getting used by language bindings but\n",
      "  then being mistakenly passed down to XGBoost core, or some parameter actually being used\n",
      "  but getting flagged wrongly here. Please open an issue if you find any such cases.\n",
      "\n",
      "\n",
      "[12:57:33] WARNING: C:/Users/Administrator/workspace/xgboost-win64_release_1.5.0/src/learner.cc:1115: Starting in XGBoost 1.3.0, the default evaluation metric used with the objective 'binary:logistic' was changed from 'error' to 'logloss'. Explicitly set eval_metric if you'd like to restore the old behavior.\n",
      "Running XGBbayesOpt\n",
      "[12:57:37] WARNING: C:/Users/Administrator/workspace/xgboost-win64_release_1.5.0/src/learner.cc:576: \n",
      "Parameters: { \"early_stopping_rounds\", \"power\", \"verbose\" } might not be used.\n",
      "\n",
      "  This could be a false alarm, with some parameters getting used by language bindings but\n",
      "  then being mistakenly passed down to XGBoost core, or some parameter actually being used\n",
      "  but getting flagged wrongly here. Please open an issue if you find any such cases.\n",
      "\n",
      "\n",
      "[12:57:37] WARNING: C:/Users/Administrator/workspace/xgboost-win64_release_1.5.0/src/learner.cc:1115: Starting in XGBoost 1.3.0, the default evaluation metric used with the objective 'binary:logistic' was changed from 'error' to 'logloss'. Explicitly set eval_metric if you'd like to restore the old behavior.\n"
     ]
    },
    {
     "data": {
      "text/html": [
       "<div>\n",
       "<style scoped>\n",
       "    .dataframe tbody tr th:only-of-type {\n",
       "        vertical-align: middle;\n",
       "    }\n",
       "\n",
       "    .dataframe tbody tr th {\n",
       "        vertical-align: top;\n",
       "    }\n",
       "\n",
       "    .dataframe thead th {\n",
       "        text-align: right;\n",
       "    }\n",
       "</style>\n",
       "<table border=\"1\" class=\"dataframe\">\n",
       "  <thead>\n",
       "    <tr style=\"text-align: right;\">\n",
       "      <th></th>\n",
       "      <th>model_name</th>\n",
       "      <th>aucpr</th>\n",
       "      <th>auc</th>\n",
       "      <th>accuracy</th>\n",
       "      <th>F1</th>\n",
       "      <th>recall</th>\n",
       "      <th>precision</th>\n",
       "      <th>logloss</th>\n",
       "    </tr>\n",
       "  </thead>\n",
       "  <tbody>\n",
       "    <tr>\n",
       "      <th>1</th>\n",
       "      <td>XGBbayesOpt</td>\n",
       "      <td>0.312576</td>\n",
       "      <td>0.953873</td>\n",
       "      <td>NaN</td>\n",
       "      <td>[0.04176334106728538, 0.04062681369704004, 0.0...</td>\n",
       "      <td>0</td>\n",
       "      <td>0</td>\n",
       "      <td>0.0236674</td>\n",
       "    </tr>\n",
       "    <tr>\n",
       "      <th>0</th>\n",
       "      <td>XGBBaseline</td>\n",
       "      <td>0.221836</td>\n",
       "      <td>0.952989</td>\n",
       "      <td>NaN</td>\n",
       "      <td>[0.01633023361306419, 0.01588021778584392, 0.0...</td>\n",
       "      <td>0</td>\n",
       "      <td>0</td>\n",
       "      <td>0.0371507</td>\n",
       "    </tr>\n",
       "  </tbody>\n",
       "</table>\n",
       "</div>"
      ],
      "text/plain": [
       "    model_name     aucpr       auc accuracy  \\\n",
       "1  XGBbayesOpt  0.312576  0.953873      NaN   \n",
       "0  XGBBaseline  0.221836  0.952989      NaN   \n",
       "\n",
       "                                                  F1 recall precision  \\\n",
       "1  [0.04176334106728538, 0.04062681369704004, 0.0...      0         0   \n",
       "0  [0.01633023361306419, 0.01588021778584392, 0.0...      0         0   \n",
       "\n",
       "     logloss  \n",
       "1  0.0236674  \n",
       "0  0.0371507  "
      ]
     },
     "execution_count": 124,
     "metadata": {},
     "output_type": "execute_result"
    }
   ],
   "source": [
    "# Comparison\n",
    "\n",
    "classifiers = {\n",
    "    \"XGBBaseline\": model_xgb_baseline,\n",
    "    \"XGBbayesOpt\": xgb_initial_model\n",
    "}\n",
    "\n",
    "# df to store metrics \n",
    "results_xgb = pd.DataFrame(columns= ['metric', 'model_name', 'aucpr', 'auc', 'accuracy','F1', 'recall', 'precision', 'logloss' ])\n",
    "\n",
    "# df to save predictions\n",
    "pred_df = pd.DataFrame(y_test,index=None)\n",
    "\n",
    "for key, classifier in classifiers.items():\n",
    "    print(\"Running\", key)\n",
    "    model          = classifier.fit(X_train, y_train)\n",
    "    pred_df[key]   = model.predict_proba(X_test)[:,1]\n",
    "    training_score = evalue_model(model,y_test, X_test, key)\n",
    "    df             = pd.DataFrame(training_score.items(), columns = [\"metric\", \"value\"])\n",
    "    results_xgb   = results_xgb.append(df.set_index('metric').T)\n",
    "\n",
    "results_xgb = results_xgb.drop('metric', axis=1).reset_index().drop('index', axis=1).sort_values(\"aucpr\", ascending = False)\n",
    "results_xgb"
   ]
  },
  {
   "cell_type": "code",
   "execution_count": 160,
   "metadata": {},
   "outputs": [
    {
     "data": {
      "text/plain": [
       "<matplotlib.legend.Legend at 0x2cdec8e5880>"
      ]
     },
     "execution_count": 160,
     "metadata": {},
     "output_type": "execute_result"
    },
    {
     "data": {
      "image/png": "[encoded data removed]",
      "text/plain": [
       "<Figure size 640x480 with 1 Axes>"
      ]
     },
     "metadata": {},
     "output_type": "display_data"
    }
   ],
   "source": [
    "colors = plt.rcParams['axes.prop_cycle'].by_key()['color']\n",
    "\n",
    "sns.set_style(\"whitegrid\")\n",
    "plot_auc_pr(\"XGBBaseline\", y_test, pred_df[\"XGBBaseline\"], color=colors[0])\n",
    "plot_auc_pr(\"XGBbayesOpt\", y_test ,pred_df[\"XGBbayesOpt\"], color=colors[1],linestyle='--')\n",
    "plt.legend(loc='upper right')\n"
   ]
  },
  {
   "cell_type": "markdown",
   "metadata": {},
   "source": [
    "From the above table and graph above, we can see that the hypertuned XGBoost model has performed way better than the simple baseline model. This is a good sign."
   ]
  },
  {
   "cell_type": "markdown",
   "metadata": {},
   "source": [
    "#### Identifying features that are more important"
   ]
  },
  {
   "cell_type": "code",
   "execution_count": 161,
   "metadata": {},
   "outputs": [],
   "source": [
    "values = sorted(xgb_initial_model.steps[1][1].feature_importances_, reverse=True)\n",
    "length = sum(i > 0 for i in values)\n",
    "values = values[:length]\n",
    "columns = train_df_industry.columns[np.argsort(xgb_initial_model.steps[1][1].feature_importances_)][::-1][:length]"
   ]
  },
  {
   "cell_type": "code",
   "execution_count": 162,
   "metadata": {},
   "outputs": [
    {
     "data": {
      "text/plain": [
       "Text(0.5, 0, 'Importance')"
      ]
     },
     "execution_count": 162,
     "metadata": {},
     "output_type": "execute_result"
    },
    {
     "data": {
      "image/png": "[encoded data removed]",
      "text/plain": [
       "<Figure size 640x480 with 1 Axes>"
      ]
     },
     "metadata": {},
     "output_type": "display_data"
    }
   ],
   "source": [
    "plt.rcdefaults()\n",
    "fig, ax = plt.subplots()\n",
    "ax.barh(columns, values, align='center')\n",
    "ax.set_yticks(columns)\n",
    "ax.invert_yaxis() \n",
    "ax.set_xlabel('Importance')"
   ]
  },
  {
   "cell_type": "markdown",
   "metadata": {},
   "source": [
    "From the first iteration of Hyperopt Tuning, we understand a few things\n",
    "- Industry columns are useless (so will be dropping sic and replacing it with major division)\n",
    "- Smote not too useful so replace with scale_pos\n",
    "- No yeojohnosn/standardising\n",
    "- Max_depth between 5 and 9\n",
    "- Hyper tuning is definitely useful as it performs better than the baseline method\n",
    "\n",
    "With this information, I proceeded to try randomised search CV with the shortlisted parameters. "
   ]
  },
  {
   "cell_type": "markdown",
   "metadata": {},
   "source": [
    "### Randomised Search with identified factors"
   ]
  },
  {
   "cell_type": "code",
   "execution_count": 170,
   "metadata": {},
   "outputs": [],
   "source": [
    "X_train, X_test, y_train, y_test, eval_set = split_data(train_df_division, labels)"
   ]
  },
  {
   "cell_type": "code",
   "execution_count": 81,
   "metadata": {},
   "outputs": [],
   "source": [
    "cv = RepeatedStratifiedKFold(n_splits=5, random_state=1)\n",
    "\n",
    "params = { 'max_depth': [5, 6, 7, 8, 9],\n",
    "           'learning_rate': [0.01, 0.1, 0.2, 0.3],\n",
    "           'subsample': np.arange(0.5, 1.0, 0.1),\n",
    "           'colsample_bytree': np.arange(0.4, 1.0, 0.1),\n",
    "           'colsample_bylevel': np.arange(0.4, 1.0, 0.1),\n",
    "           'n_estimators': [100, 500, 1000]}"
   ]
  },
  {
   "cell_type": "code",
   "execution_count": 83,
   "metadata": {},
   "outputs": [],
   "source": [
    "xgbr = XGBClassifier(seed = 20,scale_pos_weight = 0.1)\n",
    "search = RandomizedSearchCV(xgbr, params, n_iter=25, scoring='f1', n_jobs=-1, cv=cv, random_state=1, verbose=3)\n",
    "result = search.fit(train_df, labels)"
   ]
  },
  {
   "cell_type": "code",
   "execution_count": 117,
   "metadata": {},
   "outputs": [
    {
     "name": "stdout",
     "output_type": "stream",
     "text": [
      "Best Score: 0.14017102128950984\n",
      "Best Hyperparameters: {'subsample': 0.7, 'n_estimators': 500, 'max_depth': 7, 'learning_rate': 0.3, 'colsample_bytree': 0.8999999999999999, 'colsample_bylevel': 0.5}\n"
     ]
    }
   ],
   "source": [
    "print('Best Score: %s' % result.best_score_)\n",
    "print('Best Hyperparameters: %s' % result.best_params_)"
   ]
  },
  {
   "cell_type": "code",
   "execution_count": 179,
   "metadata": {},
   "outputs": [
    {
     "name": "stdout",
     "output_type": "stream",
     "text": [
      "[13:37:53] WARNING: C:/Users/Administrator/workspace/xgboost-win64_release_1.5.0/src/learner.cc:576: \n",
      "Parameters: { \"cv\", \"n_iter\", \"scoring\", \"verbose\" } might not be used.\n",
      "\n",
      "  This could be a false alarm, with some parameters getting used by language bindings but\n",
      "  then being mistakenly passed down to XGBoost core, or some parameter actually being used\n",
      "  but getting flagged wrongly here. Please open an issue if you find any such cases.\n",
      "\n",
      "\n",
      "[13:37:53] WARNING: C:/Users/Administrator/workspace/xgboost-win64_release_1.5.0/src/learner.cc:1115: Starting in XGBoost 1.3.0, the default evaluation metric used with the objective 'binary:logistic' was changed from 'error' to 'logloss'. Explicitly set eval_metric if you'd like to restore the old behavior.\n"
     ]
    }
   ],
   "source": [
    "model_xgb_random_cv = XGBClassifier(n_iter=25, scoring='f1', n_jobs=-1, cv=cv, random_state=1, \n",
    "                               seed = 20, scale_pos_weight = 0.1, verbose=3, subsample = 0.7, \n",
    "                               n_estimators = 500, max_depth = 7, learning_rate = 0.3, \n",
    "                               colsample_bytree = 0.89 , colsample_bylevel = 0.5\n",
    "                              ).fit(X_train, y_train)"
   ]
  },
  {
   "cell_type": "code",
   "execution_count": 180,
   "metadata": {},
   "outputs": [
    {
     "data": {
      "text/plain": [
       "0.19374470180855827"
      ]
     },
     "execution_count": 180,
     "metadata": {},
     "output_type": "execute_result"
    }
   ],
   "source": [
    "pred_df  = model_xgb_random_cv.predict_proba(X_test)[:,1]\n",
    "average_precision_score(y_test, pred_df)"
   ]
  },
  {
   "cell_type": "markdown",
   "metadata": {},
   "source": [
    "We can see that the randomised search cv did not perform well. Hence, I retried it with HyperOpt Tuning again."
   ]
  },
  {
   "cell_type": "markdown",
   "metadata": {},
   "source": [
    "### Hyperopt because randomised search did not signifcantly improve"
   ]
  },
  {
   "cell_type": "markdown",
   "metadata": {},
   "source": [
    "#### Trial 2"
   ]
  },
  {
   "cell_type": "code",
   "execution_count": 163,
   "metadata": {},
   "outputs": [],
   "source": [
    "XGB_param_hyperopt = {\n",
    "    'xgb': {\n",
    "        'booster': hp.choice('booster', ['dart','gbtree']),\n",
    "        'learning_rate': hp.uniform('learning_rate', 0.05, 1),\n",
    "        'max_depth': scope.int(hp.quniform('max_depth', 5, 9, 1)),\n",
    "        'num_leaves': hp.choice(label = 'num_leaves', options = [15, 31, 63, 127, 255, 511, 1023, 2047, 4095]),\n",
    "        'min_child_weight':  ho_scope.int(hp.quniform('min_child_weight',0,X_train.shape[0]/100,1)),\n",
    "        'subsample': hp.uniform('subsample',0.4,1), \n",
    "        'colsample_bytree': hp.uniform('colsample_bytree',0.4,1),\n",
    "        'feature_fraction': hp.uniform('feature_fraction',0.2,0.7),\n",
    "        'reg_lambda': hp.loguniform('reg_lambda',np.log(1e-4),np.log(10)),\n",
    "        'reg_alpha': hp.loguniform('reg_alpha',np.log(1e-4),np.log(10)),\n",
    "        'min_gain_to_split': hp.loguniform('min_gain_to_split',np.log(1e-4),np.log(2)),\n",
    "        'min_child_samples': ho_scope.int(hp.quniform('min_child_samples',10,500,100)),\n",
    "        'scale_pos_weight' : hp.loguniform('scale_pos_weight',np.log(0.1),np.log(0.5)),\n",
    "        'drop_rate': hp.uniform('drop_rate',0,1),\n",
    "        'skip_drop': hp.uniform('skip_drop',0,1),\n",
    "        'sample':  hp.choice(label = 'sample', options = [None]),\n",
    "        'power': hp.choice(label = 'power', options = [True])\n",
    "    }\n",
    "}"
   ]
  },
  {
   "cell_type": "code",
   "execution_count": 134,
   "metadata": {},
   "outputs": [
    {
     "name": "stdout",
     "output_type": "stream",
     "text": [
      "Train: Bankruptcy = 116, No Bankruptcy = 17048\n",
      "Val: Bankruptcy = 29, No Bankruptcy = 4262\n",
      "Test: Bankruptcy = 36, No Bankruptcy = 5328\n",
      "100%|█████████████████████████████████████████| 100/100 [5:08:47<00:00, 185.27s/trial, best loss: -0.29406544426933495]\n",
      "Historical max Average Precision: 0.333 STD:0.02\n"
     ]
    }
   ],
   "source": [
    "history, model = run_xgb(train_df_division, labels, XGB_param_hyperopt, 100)"
   ]
  },
  {
   "cell_type": "markdown",
   "metadata": {},
   "source": [
    "#### Trial 3"
   ]
  },
  {
   "cell_type": "code",
   "execution_count": 165,
   "metadata": {},
   "outputs": [],
   "source": [
    "XGB_param_hyperopt = {\n",
    "    'xgb': {\n",
    "        'booster': hp.choice('booster', ['dart','gbtree']), #not trying gblinear\n",
    "        'learning_rate': hp.uniform('learning_rate', 0.05, 0.5),\n",
    "        'max_depth': scope.int(hp.quniform('max_depth', 5, 9, 1)),\n",
    "        'reg_lambda':hp.choice(label = 'reg_lambda', options = [1, 1.5, 2, 2.5, 3, 3.5, 4, 4.5, 5, 5.5, 6]),\n",
    "        'reg_alpha':hp.choice(label = 'reg_alpha', options = [0.01, 0.02, 0.03, 0.04, 0.05, 0.06, 0.07, 0.08, 0.09, 0.1]),\n",
    "        'subsample': hp.choice(label = 'subsample', options = [0.1, 0.2, 0.3, 0.4, 0.5, 0.6, 0.7, 0.8, 0.9, 1]), \n",
    "        'colsample_bytree': hp.uniform('colsample_bytree',0.4,1),\n",
    "        'feature_fraction': hp.uniform('feature_fraction',0.2,0.7),\n",
    "        'min_gain_to_split': hp.uniform('min_gain_to_split',0, 1.3),\n",
    "        'scale_pos_weight' : hp.uniform('scale_pos_weight',0.1,0.5),\n",
    "        'sample':  hp.choice(label = 'sample', options = [None]),\n",
    "        'power': hp.choice(label = 'power', options = [True])\n",
    "    }\n",
    "}"
   ]
  },
  {
   "cell_type": "code",
   "execution_count": 142,
   "metadata": {},
   "outputs": [
    {
     "name": "stdout",
     "output_type": "stream",
     "text": [
      "Train: Bankruptcy = 116, No Bankruptcy = 17048\n",
      "Val: Bankruptcy = 29, No Bankruptcy = 4262\n",
      "Test: Bankruptcy = 36, No Bankruptcy = 5328\n",
      "100%|██████████████████████████████████████████| 150/150 [4:44:10<00:00, 113.67s/trial, best loss: -0.3236100813280905]\n",
      "Historical max Average Precision: 0.333 STD:0.02\n"
     ]
    }
   ],
   "source": [
    "history__revised, model_revised = run_xgb(train_df_division, labels, XGB_param_hyperopt, 150)"
   ]
  },
  {
   "cell_type": "markdown",
   "metadata": {},
   "source": [
    "Results of the hyperparamter tuning done so far:\n",
    "- xgb_history_best (no sampling + industry) -> 0.33\n",
    "- randomized (scale_pos + division) -> 0.193\n",
    "- history (scale_pos + division) -> 0.29\n",
    "- history_revised (scale_pos + division) -> 0.323610"
   ]
  },
  {
   "cell_type": "markdown",
   "metadata": {},
   "source": [
    "#### Best Model\n",
    "\n",
    "For the best model, I decided to use the model from the very last trial. This is because the CV is close to 0.32 and it includes the scale_pos parameter. While my initial model has a performance of 0.33, I cannot proceed with it because it has no sampling strategy. "
   ]
  },
  {
   "cell_type": "code",
   "execution_count": 61,
   "metadata": {},
   "outputs": [
    {
     "data": {
      "text/html": [
       "<div>\n",
       "<style scoped>\n",
       "    .dataframe tbody tr th:only-of-type {\n",
       "        vertical-align: middle;\n",
       "    }\n",
       "\n",
       "    .dataframe tbody tr th {\n",
       "        vertical-align: top;\n",
       "    }\n",
       "\n",
       "    .dataframe thead th {\n",
       "        text-align: right;\n",
       "    }\n",
       "</style>\n",
       "<table border=\"1\" class=\"dataframe\">\n",
       "  <thead>\n",
       "    <tr style=\"text-align: right;\">\n",
       "      <th></th>\n",
       "      <th>Unnamed: 0</th>\n",
       "      <th>booster</th>\n",
       "      <th>colsample_bytree</th>\n",
       "      <th>feature_fraction</th>\n",
       "      <th>learning_rate</th>\n",
       "      <th>max_depth</th>\n",
       "      <th>min_gain_to_split</th>\n",
       "      <th>power</th>\n",
       "      <th>reg_alpha</th>\n",
       "      <th>reg_lambda</th>\n",
       "      <th>sample</th>\n",
       "      <th>scale_pos_weight</th>\n",
       "      <th>subsample</th>\n",
       "      <th>average precision</th>\n",
       "    </tr>\n",
       "  </thead>\n",
       "  <tbody>\n",
       "    <tr>\n",
       "      <th>69</th>\n",
       "      <td>69</td>\n",
       "      <td>gbtree</td>\n",
       "      <td>0.700502</td>\n",
       "      <td>0.629093</td>\n",
       "      <td>0.062863</td>\n",
       "      <td>6</td>\n",
       "      <td>0.540027</td>\n",
       "      <td>True</td>\n",
       "      <td>0.03</td>\n",
       "      <td>3.5</td>\n",
       "      <td>NaN</td>\n",
       "      <td>0.389145</td>\n",
       "      <td>0.6</td>\n",
       "      <td>0.323610</td>\n",
       "    </tr>\n",
       "    <tr>\n",
       "      <th>24</th>\n",
       "      <td>24</td>\n",
       "      <td>gbtree</td>\n",
       "      <td>0.670093</td>\n",
       "      <td>0.610021</td>\n",
       "      <td>0.097823</td>\n",
       "      <td>8</td>\n",
       "      <td>0.338863</td>\n",
       "      <td>True</td>\n",
       "      <td>0.03</td>\n",
       "      <td>3.0</td>\n",
       "      <td>NaN</td>\n",
       "      <td>0.181290</td>\n",
       "      <td>0.8</td>\n",
       "      <td>0.322092</td>\n",
       "    </tr>\n",
       "    <tr>\n",
       "      <th>36</th>\n",
       "      <td>36</td>\n",
       "      <td>gbtree</td>\n",
       "      <td>0.789424</td>\n",
       "      <td>0.350189</td>\n",
       "      <td>0.133642</td>\n",
       "      <td>7</td>\n",
       "      <td>0.875222</td>\n",
       "      <td>True</td>\n",
       "      <td>0.02</td>\n",
       "      <td>4.5</td>\n",
       "      <td>NaN</td>\n",
       "      <td>0.228075</td>\n",
       "      <td>0.6</td>\n",
       "      <td>0.320285</td>\n",
       "    </tr>\n",
       "    <tr>\n",
       "      <th>147</th>\n",
       "      <td>147</td>\n",
       "      <td>gbtree</td>\n",
       "      <td>0.821080</td>\n",
       "      <td>0.627129</td>\n",
       "      <td>0.070996</td>\n",
       "      <td>5</td>\n",
       "      <td>0.365165</td>\n",
       "      <td>True</td>\n",
       "      <td>0.03</td>\n",
       "      <td>3.5</td>\n",
       "      <td>NaN</td>\n",
       "      <td>0.412244</td>\n",
       "      <td>0.6</td>\n",
       "      <td>0.320080</td>\n",
       "    </tr>\n",
       "    <tr>\n",
       "      <th>61</th>\n",
       "      <td>61</td>\n",
       "      <td>gbtree</td>\n",
       "      <td>0.760549</td>\n",
       "      <td>0.611397</td>\n",
       "      <td>0.062960</td>\n",
       "      <td>6</td>\n",
       "      <td>0.446646</td>\n",
       "      <td>True</td>\n",
       "      <td>0.03</td>\n",
       "      <td>3.5</td>\n",
       "      <td>NaN</td>\n",
       "      <td>0.390034</td>\n",
       "      <td>0.6</td>\n",
       "      <td>0.320021</td>\n",
       "    </tr>\n",
       "    <tr>\n",
       "      <th>125</th>\n",
       "      <td>125</td>\n",
       "      <td>gbtree</td>\n",
       "      <td>0.639907</td>\n",
       "      <td>0.479121</td>\n",
       "      <td>0.069995</td>\n",
       "      <td>9</td>\n",
       "      <td>0.470467</td>\n",
       "      <td>True</td>\n",
       "      <td>0.03</td>\n",
       "      <td>2.0</td>\n",
       "      <td>NaN</td>\n",
       "      <td>0.232042</td>\n",
       "      <td>0.6</td>\n",
       "      <td>0.319491</td>\n",
       "    </tr>\n",
       "    <tr>\n",
       "      <th>54</th>\n",
       "      <td>54</td>\n",
       "      <td>gbtree</td>\n",
       "      <td>0.531546</td>\n",
       "      <td>0.409507</td>\n",
       "      <td>0.085228</td>\n",
       "      <td>7</td>\n",
       "      <td>0.359826</td>\n",
       "      <td>True</td>\n",
       "      <td>0.02</td>\n",
       "      <td>1.0</td>\n",
       "      <td>NaN</td>\n",
       "      <td>0.155661</td>\n",
       "      <td>0.6</td>\n",
       "      <td>0.319435</td>\n",
       "    </tr>\n",
       "    <tr>\n",
       "      <th>131</th>\n",
       "      <td>131</td>\n",
       "      <td>gbtree</td>\n",
       "      <td>0.931930</td>\n",
       "      <td>0.560922</td>\n",
       "      <td>0.128418</td>\n",
       "      <td>7</td>\n",
       "      <td>0.963911</td>\n",
       "      <td>True</td>\n",
       "      <td>0.04</td>\n",
       "      <td>4.0</td>\n",
       "      <td>NaN</td>\n",
       "      <td>0.201741</td>\n",
       "      <td>0.4</td>\n",
       "      <td>0.319371</td>\n",
       "    </tr>\n",
       "    <tr>\n",
       "      <th>103</th>\n",
       "      <td>103</td>\n",
       "      <td>dart</td>\n",
       "      <td>0.730424</td>\n",
       "      <td>0.277866</td>\n",
       "      <td>0.115573</td>\n",
       "      <td>5</td>\n",
       "      <td>0.507182</td>\n",
       "      <td>True</td>\n",
       "      <td>0.06</td>\n",
       "      <td>4.0</td>\n",
       "      <td>NaN</td>\n",
       "      <td>0.196323</td>\n",
       "      <td>0.6</td>\n",
       "      <td>0.319367</td>\n",
       "    </tr>\n",
       "    <tr>\n",
       "      <th>148</th>\n",
       "      <td>148</td>\n",
       "      <td>gbtree</td>\n",
       "      <td>0.825863</td>\n",
       "      <td>0.554913</td>\n",
       "      <td>0.073645</td>\n",
       "      <td>5</td>\n",
       "      <td>0.357642</td>\n",
       "      <td>True</td>\n",
       "      <td>0.03</td>\n",
       "      <td>3.5</td>\n",
       "      <td>NaN</td>\n",
       "      <td>0.374863</td>\n",
       "      <td>0.6</td>\n",
       "      <td>0.319099</td>\n",
       "    </tr>\n",
       "    <tr>\n",
       "      <th>105</th>\n",
       "      <td>105</td>\n",
       "      <td>gbtree</td>\n",
       "      <td>0.630933</td>\n",
       "      <td>0.213113</td>\n",
       "      <td>0.099549</td>\n",
       "      <td>9</td>\n",
       "      <td>0.364204</td>\n",
       "      <td>True</td>\n",
       "      <td>0.10</td>\n",
       "      <td>3.0</td>\n",
       "      <td>NaN</td>\n",
       "      <td>0.173075</td>\n",
       "      <td>0.8</td>\n",
       "      <td>0.318907</td>\n",
       "    </tr>\n",
       "    <tr>\n",
       "      <th>81</th>\n",
       "      <td>81</td>\n",
       "      <td>gbtree</td>\n",
       "      <td>0.740318</td>\n",
       "      <td>0.421385</td>\n",
       "      <td>0.095090</td>\n",
       "      <td>6</td>\n",
       "      <td>0.191712</td>\n",
       "      <td>True</td>\n",
       "      <td>0.08</td>\n",
       "      <td>1.0</td>\n",
       "      <td>NaN</td>\n",
       "      <td>0.161864</td>\n",
       "      <td>0.6</td>\n",
       "      <td>0.318505</td>\n",
       "    </tr>\n",
       "    <tr>\n",
       "      <th>95</th>\n",
       "      <td>95</td>\n",
       "      <td>gbtree</td>\n",
       "      <td>0.652885</td>\n",
       "      <td>0.349859</td>\n",
       "      <td>0.173063</td>\n",
       "      <td>7</td>\n",
       "      <td>1.075146</td>\n",
       "      <td>True</td>\n",
       "      <td>0.02</td>\n",
       "      <td>4.5</td>\n",
       "      <td>NaN</td>\n",
       "      <td>0.239978</td>\n",
       "      <td>0.5</td>\n",
       "      <td>0.318303</td>\n",
       "    </tr>\n",
       "    <tr>\n",
       "      <th>66</th>\n",
       "      <td>66</td>\n",
       "      <td>gbtree</td>\n",
       "      <td>0.862855</td>\n",
       "      <td>0.676707</td>\n",
       "      <td>0.066495</td>\n",
       "      <td>5</td>\n",
       "      <td>0.635601</td>\n",
       "      <td>True</td>\n",
       "      <td>0.03</td>\n",
       "      <td>3.5</td>\n",
       "      <td>NaN</td>\n",
       "      <td>0.419420</td>\n",
       "      <td>0.6</td>\n",
       "      <td>0.318238</td>\n",
       "    </tr>\n",
       "    <tr>\n",
       "      <th>115</th>\n",
       "      <td>115</td>\n",
       "      <td>gbtree</td>\n",
       "      <td>0.873981</td>\n",
       "      <td>0.327027</td>\n",
       "      <td>0.178872</td>\n",
       "      <td>7</td>\n",
       "      <td>1.060277</td>\n",
       "      <td>True</td>\n",
       "      <td>0.09</td>\n",
       "      <td>3.5</td>\n",
       "      <td>NaN</td>\n",
       "      <td>0.106946</td>\n",
       "      <td>0.6</td>\n",
       "      <td>0.318083</td>\n",
       "    </tr>\n",
       "    <tr>\n",
       "      <th>110</th>\n",
       "      <td>110</td>\n",
       "      <td>gbtree</td>\n",
       "      <td>0.565459</td>\n",
       "      <td>0.601530</td>\n",
       "      <td>0.110086</td>\n",
       "      <td>7</td>\n",
       "      <td>0.208083</td>\n",
       "      <td>True</td>\n",
       "      <td>0.05</td>\n",
       "      <td>4.5</td>\n",
       "      <td>NaN</td>\n",
       "      <td>0.182450</td>\n",
       "      <td>0.8</td>\n",
       "      <td>0.317984</td>\n",
       "    </tr>\n",
       "    <tr>\n",
       "      <th>68</th>\n",
       "      <td>68</td>\n",
       "      <td>gbtree</td>\n",
       "      <td>0.641884</td>\n",
       "      <td>0.562814</td>\n",
       "      <td>0.082204</td>\n",
       "      <td>5</td>\n",
       "      <td>0.177894</td>\n",
       "      <td>True</td>\n",
       "      <td>0.03</td>\n",
       "      <td>3.5</td>\n",
       "      <td>NaN</td>\n",
       "      <td>0.405282</td>\n",
       "      <td>0.6</td>\n",
       "      <td>0.317353</td>\n",
       "    </tr>\n",
       "    <tr>\n",
       "      <th>44</th>\n",
       "      <td>44</td>\n",
       "      <td>gbtree</td>\n",
       "      <td>0.713996</td>\n",
       "      <td>0.339040</td>\n",
       "      <td>0.182510</td>\n",
       "      <td>6</td>\n",
       "      <td>0.492456</td>\n",
       "      <td>True</td>\n",
       "      <td>0.08</td>\n",
       "      <td>6.0</td>\n",
       "      <td>NaN</td>\n",
       "      <td>0.147337</td>\n",
       "      <td>0.7</td>\n",
       "      <td>0.317329</td>\n",
       "    </tr>\n",
       "    <tr>\n",
       "      <th>28</th>\n",
       "      <td>28</td>\n",
       "      <td>gbtree</td>\n",
       "      <td>0.588821</td>\n",
       "      <td>0.581634</td>\n",
       "      <td>0.096616</td>\n",
       "      <td>9</td>\n",
       "      <td>0.227974</td>\n",
       "      <td>True</td>\n",
       "      <td>0.09</td>\n",
       "      <td>3.0</td>\n",
       "      <td>NaN</td>\n",
       "      <td>0.167632</td>\n",
       "      <td>0.8</td>\n",
       "      <td>0.316552</td>\n",
       "    </tr>\n",
       "    <tr>\n",
       "      <th>33</th>\n",
       "      <td>33</td>\n",
       "      <td>gbtree</td>\n",
       "      <td>0.562284</td>\n",
       "      <td>0.488948</td>\n",
       "      <td>0.090247</td>\n",
       "      <td>8</td>\n",
       "      <td>0.845301</td>\n",
       "      <td>True</td>\n",
       "      <td>0.01</td>\n",
       "      <td>3.0</td>\n",
       "      <td>NaN</td>\n",
       "      <td>0.170130</td>\n",
       "      <td>0.8</td>\n",
       "      <td>0.316469</td>\n",
       "    </tr>\n",
       "    <tr>\n",
       "      <th>96</th>\n",
       "      <td>96</td>\n",
       "      <td>gbtree</td>\n",
       "      <td>0.824689</td>\n",
       "      <td>0.303571</td>\n",
       "      <td>0.085562</td>\n",
       "      <td>8</td>\n",
       "      <td>0.868309</td>\n",
       "      <td>True</td>\n",
       "      <td>0.05</td>\n",
       "      <td>3.5</td>\n",
       "      <td>NaN</td>\n",
       "      <td>0.350533</td>\n",
       "      <td>0.6</td>\n",
       "      <td>0.316392</td>\n",
       "    </tr>\n",
       "    <tr>\n",
       "      <th>104</th>\n",
       "      <td>104</td>\n",
       "      <td>gbtree</td>\n",
       "      <td>0.482134</td>\n",
       "      <td>0.251420</td>\n",
       "      <td>0.148102</td>\n",
       "      <td>8</td>\n",
       "      <td>0.695526</td>\n",
       "      <td>True</td>\n",
       "      <td>0.03</td>\n",
       "      <td>5.5</td>\n",
       "      <td>NaN</td>\n",
       "      <td>0.263359</td>\n",
       "      <td>0.4</td>\n",
       "      <td>0.316341</td>\n",
       "    </tr>\n",
       "    <tr>\n",
       "      <th>146</th>\n",
       "      <td>146</td>\n",
       "      <td>gbtree</td>\n",
       "      <td>0.794511</td>\n",
       "      <td>0.659713</td>\n",
       "      <td>0.096882</td>\n",
       "      <td>6</td>\n",
       "      <td>0.292399</td>\n",
       "      <td>True</td>\n",
       "      <td>0.03</td>\n",
       "      <td>3.5</td>\n",
       "      <td>NaN</td>\n",
       "      <td>0.390120</td>\n",
       "      <td>0.6</td>\n",
       "      <td>0.316230</td>\n",
       "    </tr>\n",
       "    <tr>\n",
       "      <th>145</th>\n",
       "      <td>145</td>\n",
       "      <td>gbtree</td>\n",
       "      <td>0.767169</td>\n",
       "      <td>0.606897</td>\n",
       "      <td>0.082503</td>\n",
       "      <td>6</td>\n",
       "      <td>0.447307</td>\n",
       "      <td>True</td>\n",
       "      <td>0.03</td>\n",
       "      <td>3.5</td>\n",
       "      <td>NaN</td>\n",
       "      <td>0.399536</td>\n",
       "      <td>0.6</td>\n",
       "      <td>0.316229</td>\n",
       "    </tr>\n",
       "    <tr>\n",
       "      <th>102</th>\n",
       "      <td>102</td>\n",
       "      <td>gbtree</td>\n",
       "      <td>0.511783</td>\n",
       "      <td>0.581416</td>\n",
       "      <td>0.076613</td>\n",
       "      <td>9</td>\n",
       "      <td>0.993567</td>\n",
       "      <td>True</td>\n",
       "      <td>0.09</td>\n",
       "      <td>4.5</td>\n",
       "      <td>NaN</td>\n",
       "      <td>0.326430</td>\n",
       "      <td>1.0</td>\n",
       "      <td>0.316219</td>\n",
       "    </tr>\n",
       "    <tr>\n",
       "      <th>79</th>\n",
       "      <td>79</td>\n",
       "      <td>gbtree</td>\n",
       "      <td>0.770536</td>\n",
       "      <td>0.440140</td>\n",
       "      <td>0.059422</td>\n",
       "      <td>8</td>\n",
       "      <td>0.482303</td>\n",
       "      <td>True</td>\n",
       "      <td>0.04</td>\n",
       "      <td>1.5</td>\n",
       "      <td>NaN</td>\n",
       "      <td>0.269353</td>\n",
       "      <td>0.4</td>\n",
       "      <td>0.316191</td>\n",
       "    </tr>\n",
       "    <tr>\n",
       "      <th>16</th>\n",
       "      <td>16</td>\n",
       "      <td>gbtree</td>\n",
       "      <td>0.521035</td>\n",
       "      <td>0.642073</td>\n",
       "      <td>0.062239</td>\n",
       "      <td>8</td>\n",
       "      <td>0.413974</td>\n",
       "      <td>True</td>\n",
       "      <td>0.04</td>\n",
       "      <td>1.0</td>\n",
       "      <td>NaN</td>\n",
       "      <td>0.167053</td>\n",
       "      <td>0.8</td>\n",
       "      <td>0.316106</td>\n",
       "    </tr>\n",
       "    <tr>\n",
       "      <th>42</th>\n",
       "      <td>42</td>\n",
       "      <td>dart</td>\n",
       "      <td>0.998213</td>\n",
       "      <td>0.273716</td>\n",
       "      <td>0.153642</td>\n",
       "      <td>6</td>\n",
       "      <td>0.922259</td>\n",
       "      <td>True</td>\n",
       "      <td>0.10</td>\n",
       "      <td>4.5</td>\n",
       "      <td>NaN</td>\n",
       "      <td>0.204178</td>\n",
       "      <td>0.5</td>\n",
       "      <td>0.316049</td>\n",
       "    </tr>\n",
       "    <tr>\n",
       "      <th>67</th>\n",
       "      <td>67</td>\n",
       "      <td>gbtree</td>\n",
       "      <td>0.736407</td>\n",
       "      <td>0.597844</td>\n",
       "      <td>0.051109</td>\n",
       "      <td>6</td>\n",
       "      <td>0.280455</td>\n",
       "      <td>True</td>\n",
       "      <td>0.03</td>\n",
       "      <td>3.5</td>\n",
       "      <td>NaN</td>\n",
       "      <td>0.335281</td>\n",
       "      <td>0.6</td>\n",
       "      <td>0.315508</td>\n",
       "    </tr>\n",
       "    <tr>\n",
       "      <th>38</th>\n",
       "      <td>38</td>\n",
       "      <td>gbtree</td>\n",
       "      <td>0.909131</td>\n",
       "      <td>0.330145</td>\n",
       "      <td>0.166188</td>\n",
       "      <td>7</td>\n",
       "      <td>1.157856</td>\n",
       "      <td>True</td>\n",
       "      <td>0.02</td>\n",
       "      <td>4.5</td>\n",
       "      <td>NaN</td>\n",
       "      <td>0.227659</td>\n",
       "      <td>0.6</td>\n",
       "      <td>0.315336</td>\n",
       "    </tr>\n",
       "  </tbody>\n",
       "</table>\n",
       "</div>"
      ],
      "text/plain": [
       "     Unnamed: 0 booster  colsample_bytree  feature_fraction  learning_rate  \\\n",
       "69           69  gbtree          0.700502          0.629093       0.062863   \n",
       "24           24  gbtree          0.670093          0.610021       0.097823   \n",
       "36           36  gbtree          0.789424          0.350189       0.133642   \n",
       "147         147  gbtree          0.821080          0.627129       0.070996   \n",
       "61           61  gbtree          0.760549          0.611397       0.062960   \n",
       "125         125  gbtree          0.639907          0.479121       0.069995   \n",
       "54           54  gbtree          0.531546          0.409507       0.085228   \n",
       "131         131  gbtree          0.931930          0.560922       0.128418   \n",
       "103         103    dart          0.730424          0.277866       0.115573   \n",
       "148         148  gbtree          0.825863          0.554913       0.073645   \n",
       "105         105  gbtree          0.630933          0.213113       0.099549   \n",
       "81           81  gbtree          0.740318          0.421385       0.095090   \n",
       "95           95  gbtree          0.652885          0.349859       0.173063   \n",
       "66           66  gbtree          0.862855          0.676707       0.066495   \n",
       "115         115  gbtree          0.873981          0.327027       0.178872   \n",
       "110         110  gbtree          0.565459          0.601530       0.110086   \n",
       "68           68  gbtree          0.641884          0.562814       0.082204   \n",
       "44           44  gbtree          0.713996          0.339040       0.182510   \n",
       "28           28  gbtree          0.588821          0.581634       0.096616   \n",
       "33           33  gbtree          0.562284          0.488948       0.090247   \n",
       "96           96  gbtree          0.824689          0.303571       0.085562   \n",
       "104         104  gbtree          0.482134          0.251420       0.148102   \n",
       "146         146  gbtree          0.794511          0.659713       0.096882   \n",
       "145         145  gbtree          0.767169          0.606897       0.082503   \n",
       "102         102  gbtree          0.511783          0.581416       0.076613   \n",
       "79           79  gbtree          0.770536          0.440140       0.059422   \n",
       "16           16  gbtree          0.521035          0.642073       0.062239   \n",
       "42           42    dart          0.998213          0.273716       0.153642   \n",
       "67           67  gbtree          0.736407          0.597844       0.051109   \n",
       "38           38  gbtree          0.909131          0.330145       0.166188   \n",
       "\n",
       "     max_depth  min_gain_to_split  power  reg_alpha  reg_lambda  sample  \\\n",
       "69           6           0.540027   True       0.03         3.5     NaN   \n",
       "24           8           0.338863   True       0.03         3.0     NaN   \n",
       "36           7           0.875222   True       0.02         4.5     NaN   \n",
       "147          5           0.365165   True       0.03         3.5     NaN   \n",
       "61           6           0.446646   True       0.03         3.5     NaN   \n",
       "125          9           0.470467   True       0.03         2.0     NaN   \n",
       "54           7           0.359826   True       0.02         1.0     NaN   \n",
       "131          7           0.963911   True       0.04         4.0     NaN   \n",
       "103          5           0.507182   True       0.06         4.0     NaN   \n",
       "148          5           0.357642   True       0.03         3.5     NaN   \n",
       "105          9           0.364204   True       0.10         3.0     NaN   \n",
       "81           6           0.191712   True       0.08         1.0     NaN   \n",
       "95           7           1.075146   True       0.02         4.5     NaN   \n",
       "66           5           0.635601   True       0.03         3.5     NaN   \n",
       "115          7           1.060277   True       0.09         3.5     NaN   \n",
       "110          7           0.208083   True       0.05         4.5     NaN   \n",
       "68           5           0.177894   True       0.03         3.5     NaN   \n",
       "44           6           0.492456   True       0.08         6.0     NaN   \n",
       "28           9           0.227974   True       0.09         3.0     NaN   \n",
       "33           8           0.845301   True       0.01         3.0     NaN   \n",
       "96           8           0.868309   True       0.05         3.5     NaN   \n",
       "104          8           0.695526   True       0.03         5.5     NaN   \n",
       "146          6           0.292399   True       0.03         3.5     NaN   \n",
       "145          6           0.447307   True       0.03         3.5     NaN   \n",
       "102          9           0.993567   True       0.09         4.5     NaN   \n",
       "79           8           0.482303   True       0.04         1.5     NaN   \n",
       "16           8           0.413974   True       0.04         1.0     NaN   \n",
       "42           6           0.922259   True       0.10         4.5     NaN   \n",
       "67           6           0.280455   True       0.03         3.5     NaN   \n",
       "38           7           1.157856   True       0.02         4.5     NaN   \n",
       "\n",
       "     scale_pos_weight  subsample  average precision  \n",
       "69           0.389145        0.6           0.323610  \n",
       "24           0.181290        0.8           0.322092  \n",
       "36           0.228075        0.6           0.320285  \n",
       "147          0.412244        0.6           0.320080  \n",
       "61           0.390034        0.6           0.320021  \n",
       "125          0.232042        0.6           0.319491  \n",
       "54           0.155661        0.6           0.319435  \n",
       "131          0.201741        0.4           0.319371  \n",
       "103          0.196323        0.6           0.319367  \n",
       "148          0.374863        0.6           0.319099  \n",
       "105          0.173075        0.8           0.318907  \n",
       "81           0.161864        0.6           0.318505  \n",
       "95           0.239978        0.5           0.318303  \n",
       "66           0.419420        0.6           0.318238  \n",
       "115          0.106946        0.6           0.318083  \n",
       "110          0.182450        0.8           0.317984  \n",
       "68           0.405282        0.6           0.317353  \n",
       "44           0.147337        0.7           0.317329  \n",
       "28           0.167632        0.8           0.316552  \n",
       "33           0.170130        0.8           0.316469  \n",
       "96           0.350533        0.6           0.316392  \n",
       "104          0.263359        0.4           0.316341  \n",
       "146          0.390120        0.6           0.316230  \n",
       "145          0.399536        0.6           0.316229  \n",
       "102          0.326430        1.0           0.316219  \n",
       "79           0.269353        0.4           0.316191  \n",
       "16           0.167053        0.8           0.316106  \n",
       "42           0.204178        0.5           0.316049  \n",
       "67           0.335281        0.6           0.315508  \n",
       "38           0.227659        0.6           0.315336  "
      ]
     },
     "execution_count": 61,
     "metadata": {},
     "output_type": "execute_result"
    }
   ],
   "source": [
    "# Obtaining the better parameters\n",
    "\n",
    "history__revised.sort_values(by=['average precision'], ascending = False)[:30]"
   ]
  },
  {
   "cell_type": "code",
   "execution_count": 62,
   "metadata": {},
   "outputs": [],
   "source": [
    "best_params = history__revised.sort_values(by=['average precision'], ascending = False)[:1].drop(columns = ['Unnamed: 0', 'average precision']).to_dict('records')[0]"
   ]
  },
  {
   "cell_type": "code",
   "execution_count": 63,
   "metadata": {},
   "outputs": [],
   "source": [
    "# building a model with the identified best parameters\n",
    "# answered all parts? random seed - save all files finally\n",
    "\n",
    "model_best = XGBClassifier(**best_params, \n",
    "                n_jobs = -1,\n",
    "                random_state = 42,\n",
    "                early_stopping_rounds = 100,\n",
    "                verbose = 0,\n",
    "                silent = True\n",
    "                 )  \n",
    "power = PowerTransformer(method='yeo-johnson', standardize=True)\n",
    "model_best = Pipeline([('power', power), ('xgb', model_best) ])      "
   ]
  },
  {
   "cell_type": "code",
   "execution_count": 64,
   "metadata": {
    "scrolled": true
   },
   "outputs": [
    {
     "name": "stdout",
     "output_type": "stream",
     "text": [
      "[11:36:15] WARNING: C:/Users/Administrator/workspace/xgboost-win64_release_1.5.0/src/learner.cc:576: \n",
      "Parameters: { \"early_stopping_rounds\", \"feature_fraction\", \"min_gain_to_split\", \"power\", \"sample\", \"silent\", \"verbose\" } might not be used.\n",
      "\n",
      "  This could be a false alarm, with some parameters getting used by language bindings but\n",
      "  then being mistakenly passed down to XGBoost core, or some parameter actually being used\n",
      "  but getting flagged wrongly here. Please open an issue if you find any such cases.\n",
      "\n",
      "\n",
      "[11:36:15] WARNING: C:/Users/Administrator/workspace/xgboost-win64_release_1.5.0/src/learner.cc:1115: Starting in XGBoost 1.3.0, the default evaluation metric used with the objective 'binary:logistic' was changed from 'error' to 'logloss'. Explicitly set eval_metric if you'd like to restore the old behavior.\n",
      "[11:36:19] WARNING: C:/Users/Administrator/workspace/xgboost-win64_release_1.5.0/src/learner.cc:576: \n",
      "Parameters: { \"early_stopping_rounds\", \"feature_fraction\", \"min_gain_to_split\", \"power\", \"sample\", \"silent\", \"verbose\" } might not be used.\n",
      "\n",
      "  This could be a false alarm, with some parameters getting used by language bindings but\n",
      "  then being mistakenly passed down to XGBoost core, or some parameter actually being used\n",
      "  but getting flagged wrongly here. Please open an issue if you find any such cases.\n",
      "\n",
      "\n",
      "[11:36:19] WARNING: C:/Users/Administrator/workspace/xgboost-win64_release_1.5.0/src/learner.cc:1115: Starting in XGBoost 1.3.0, the default evaluation metric used with the objective 'binary:logistic' was changed from 'error' to 'logloss'. Explicitly set eval_metric if you'd like to restore the old behavior.\n",
      "[11:36:24] WARNING: C:/Users/Administrator/workspace/xgboost-win64_release_1.5.0/src/learner.cc:576: \n",
      "Parameters: { \"early_stopping_rounds\", \"feature_fraction\", \"min_gain_to_split\", \"power\", \"sample\", \"silent\", \"verbose\" } might not be used.\n",
      "\n",
      "  This could be a false alarm, with some parameters getting used by language bindings but\n",
      "  then being mistakenly passed down to XGBoost core, or some parameter actually being used\n",
      "  but getting flagged wrongly here. Please open an issue if you find any such cases.\n",
      "\n",
      "\n",
      "[11:36:24] WARNING: C:/Users/Administrator/workspace/xgboost-win64_release_1.5.0/src/learner.cc:1115: Starting in XGBoost 1.3.0, the default evaluation metric used with the objective 'binary:logistic' was changed from 'error' to 'logloss'. Explicitly set eval_metric if you'd like to restore the old behavior.\n",
      "[11:36:29] WARNING: C:/Users/Administrator/workspace/xgboost-win64_release_1.5.0/src/learner.cc:576: \n",
      "Parameters: { \"early_stopping_rounds\", \"feature_fraction\", \"min_gain_to_split\", \"power\", \"sample\", \"silent\", \"verbose\" } might not be used.\n",
      "\n",
      "  This could be a false alarm, with some parameters getting used by language bindings but\n",
      "  then being mistakenly passed down to XGBoost core, or some parameter actually being used\n",
      "  but getting flagged wrongly here. Please open an issue if you find any such cases.\n",
      "\n",
      "\n",
      "[11:36:29] WARNING: C:/Users/Administrator/workspace/xgboost-win64_release_1.5.0/src/learner.cc:1115: Starting in XGBoost 1.3.0, the default evaluation metric used with the objective 'binary:logistic' was changed from 'error' to 'logloss'. Explicitly set eval_metric if you'd like to restore the old behavior.\n",
      "[11:36:34] WARNING: C:/Users/Administrator/workspace/xgboost-win64_release_1.5.0/src/learner.cc:576: \n",
      "Parameters: { \"early_stopping_rounds\", \"feature_fraction\", \"min_gain_to_split\", \"power\", \"sample\", \"silent\", \"verbose\" } might not be used.\n",
      "\n",
      "  This could be a false alarm, with some parameters getting used by language bindings but\n",
      "  then being mistakenly passed down to XGBoost core, or some parameter actually being used\n",
      "  but getting flagged wrongly here. Please open an issue if you find any such cases.\n",
      "\n",
      "\n",
      "[11:36:34] WARNING: C:/Users/Administrator/workspace/xgboost-win64_release_1.5.0/src/learner.cc:1115: Starting in XGBoost 1.3.0, the default evaluation metric used with the objective 'binary:logistic' was changed from 'error' to 'logloss'. Explicitly set eval_metric if you'd like to restore the old behavior.\n"
     ]
    },
    {
     "data": {
      "text/plain": [
       "0.2795220785500862"
      ]
     },
     "execution_count": 64,
     "metadata": {},
     "output_type": "execute_result"
    }
   ],
   "source": [
    "# obtaining cross-validated probability for q5\n",
    "cv = StratifiedKFold(n_splits=5, shuffle=True, random_state = 42)\n",
    "\n",
    "y_pred_proba = cross_val_predict(model_best, train_df_division, labels, cv=cv, method = 'predict_proba' )\n",
    "average_precision_score(labels, pd.DataFrame(y_pred_proba)[1].values)"
   ]
  },
  {
   "cell_type": "markdown",
   "metadata": {},
   "source": [
    "Fitting best model and predicting on test data"
   ]
  },
  {
   "cell_type": "code",
   "execution_count": 65,
   "metadata": {},
   "outputs": [
    {
     "name": "stdout",
     "output_type": "stream",
     "text": [
      "[11:36:39] WARNING: C:/Users/Administrator/workspace/xgboost-win64_release_1.5.0/src/learner.cc:576: \n",
      "Parameters: { \"early_stopping_rounds\", \"feature_fraction\", \"min_gain_to_split\", \"power\", \"sample\", \"silent\", \"verbose\" } might not be used.\n",
      "\n",
      "  This could be a false alarm, with some parameters getting used by language bindings but\n",
      "  then being mistakenly passed down to XGBoost core, or some parameter actually being used\n",
      "  but getting flagged wrongly here. Please open an issue if you find any such cases.\n",
      "\n",
      "\n",
      "[11:36:39] WARNING: C:/Users/Administrator/workspace/xgboost-win64_release_1.5.0/src/learner.cc:1115: Starting in XGBoost 1.3.0, the default evaluation metric used with the objective 'binary:logistic' was changed from 'error' to 'logloss'. Explicitly set eval_metric if you'd like to restore the old behavior.\n"
     ]
    }
   ],
   "source": [
    "model_best.fit(train_df_division, labels)\n",
    "predicted_proba = model_best.predict_proba(test_df_division)"
   ]
  },
  {
   "cell_type": "markdown",
   "metadata": {},
   "source": [
    "Saving important files"
   ]
  },
  {
   "cell_type": "code",
   "execution_count": 66,
   "metadata": {},
   "outputs": [],
   "source": [
    "pd.DataFrame(predicted_proba)[1].to_csv('submission_A0192263E.csv')"
   ]
  },
  {
   "cell_type": "code",
   "execution_count": 67,
   "metadata": {},
   "outputs": [],
   "source": [
    "df_train['cv_probability'] = pd.DataFrame(y_pred_proba)[1].values"
   ]
  },
  {
   "cell_type": "code",
   "execution_count": 68,
   "metadata": {},
   "outputs": [],
   "source": [
    "df_train.to_csv('final_train_table.csv')"
   ]
  },
  {
   "cell_type": "code",
   "execution_count": 69,
   "metadata": {},
   "outputs": [],
   "source": [
    "import pickle\n",
    "filename = 'A0192263E_model.sav'\n",
    "pickle.dump(model_best, open(filename, 'wb'))"
   ]
  },
  {
   "cell_type": "markdown",
   "metadata": {},
   "source": [
    "### Q5\n",
    "\n",
    "Preparing the table for understanding relationship between general category and altman z_score, component variables and cv probas"
   ]
  },
  {
   "cell_type": "code",
   "execution_count": 70,
   "metadata": {},
   "outputs": [],
   "source": [
    "q5_df = pd.read_excel('C:/Y4S1/BT4016/Assignment/train.xlsx', 'Q5')\n",
    "q5_df = q5_df.drop_duplicates()\n",
    "q5_df = q5_df.fillna('Others')"
   ]
  },
  {
   "cell_type": "code",
   "execution_count": 71,
   "metadata": {},
   "outputs": [],
   "source": [
    "# General Rating Column\n",
    "\n",
    "q5_df['General_Rating'] = None\n",
    "\n",
    "q5_df['General_Rating'] = np.where(q5_df['Rating'].str.contains('SD'), 'SD', q5_df['General_Rating'])\n",
    "\n",
    "q5_df['General_Rating'] = np.where(q5_df['Rating'].str.contains('A'), 'A', q5_df['General_Rating'])\n",
    "\n",
    "q5_df['General_Rating'] = np.where(q5_df['Rating'].str.contains('BBB'), 'BBB', q5_df['General_Rating'])\n",
    "q5_df['General_Rating'] = np.where(q5_df['Rating'].isin(['BB', 'BB+', 'BB-']), 'BB', q5_df['General_Rating'])\n",
    "q5_df['General_Rating'] = np.where(q5_df['Rating'].isin(['B', 'B+', 'B-']), 'B', q5_df['General_Rating'])\n",
    "\n",
    "q5_df['General_Rating'] = np.where(q5_df['Rating'].str.contains('C'), 'C', q5_df['General_Rating'])\n",
    "\n",
    "q5_df['General_Rating'] = np.where(q5_df['Rating'].str.contains('Others'), 'Others', q5_df['General_Rating'])"
   ]
  },
  {
   "cell_type": "code",
   "execution_count": 72,
   "metadata": {},
   "outputs": [],
   "source": [
    "# Getting rows only from 2011\n",
    "\n",
    "df_train_11 = df_train[pd.DatetimeIndex(df_train.datadate).year==2011]\n",
    "df_train_11 = df_train_11.drop_duplicates()"
   ]
  },
  {
   "cell_type": "code",
   "execution_count": 73,
   "metadata": {},
   "outputs": [],
   "source": [
    "essential_columns = ['Altman_X1', 'Altman_X2',\t'Altman_X3', 'Altman_X4', 'Altman_X5', 'conm', 'Z_score', 'cv_probability','General_Rating']"
   ]
  },
  {
   "cell_type": "code",
   "execution_count": 74,
   "metadata": {},
   "outputs": [],
   "source": [
    "final_df = df_train_11.merge(q5_df, how='left', left_on=['gvkey'], right_on=['GVKey'])[essential_columns].drop_duplicates()\n",
    "final_df = final_df.drop(columns = 'conm')"
   ]
  },
  {
   "cell_type": "code",
   "execution_count": 75,
   "metadata": {},
   "outputs": [
    {
     "data": {
      "text/html": [
       "<div>\n",
       "<style scoped>\n",
       "    .dataframe tbody tr th:only-of-type {\n",
       "        vertical-align: middle;\n",
       "    }\n",
       "\n",
       "    .dataframe tbody tr th {\n",
       "        vertical-align: top;\n",
       "    }\n",
       "\n",
       "    .dataframe thead th {\n",
       "        text-align: right;\n",
       "    }\n",
       "</style>\n",
       "<table border=\"1\" class=\"dataframe\">\n",
       "  <thead>\n",
       "    <tr style=\"text-align: right;\">\n",
       "      <th></th>\n",
       "      <th>Altman_X1</th>\n",
       "      <th>Altman_X2</th>\n",
       "      <th>Altman_X3</th>\n",
       "      <th>Altman_X4</th>\n",
       "      <th>Altman_X5</th>\n",
       "      <th>Z_score</th>\n",
       "      <th>cv_probability</th>\n",
       "      <th>General_Rating</th>\n",
       "    </tr>\n",
       "  </thead>\n",
       "  <tbody>\n",
       "    <tr>\n",
       "      <th>0</th>\n",
       "      <td>0.269566</td>\n",
       "      <td>0.787958</td>\n",
       "      <td>0.054974</td>\n",
       "      <td>1.337426</td>\n",
       "      <td>0.802918</td>\n",
       "      <td>3.213409</td>\n",
       "      <td>0.001626</td>\n",
       "      <td>Others</td>\n",
       "    </tr>\n",
       "    <tr>\n",
       "      <th>1</th>\n",
       "      <td>0.302949</td>\n",
       "      <td>0.122722</td>\n",
       "      <td>0.101234</td>\n",
       "      <td>7.837019</td>\n",
       "      <td>0.700172</td>\n",
       "      <td>6.271806</td>\n",
       "      <td>0.001567</td>\n",
       "      <td>Others</td>\n",
       "    </tr>\n",
       "    <tr>\n",
       "      <th>2</th>\n",
       "      <td>0.258158</td>\n",
       "      <td>0.244216</td>\n",
       "      <td>0.070187</td>\n",
       "      <td>0.759905</td>\n",
       "      <td>2.181182</td>\n",
       "      <td>3.520435</td>\n",
       "      <td>0.001804</td>\n",
       "      <td>Others</td>\n",
       "    </tr>\n",
       "    <tr>\n",
       "      <th>3</th>\n",
       "      <td>-0.132921</td>\n",
       "      <td>0.193790</td>\n",
       "      <td>0.162170</td>\n",
       "      <td>1.074658</td>\n",
       "      <td>2.830563</td>\n",
       "      <td>4.122319</td>\n",
       "      <td>0.001778</td>\n",
       "      <td>Others</td>\n",
       "    </tr>\n",
       "    <tr>\n",
       "      <th>4</th>\n",
       "      <td>0.376202</td>\n",
       "      <td>0.650973</td>\n",
       "      <td>0.135470</td>\n",
       "      <td>4.668577</td>\n",
       "      <td>1.141097</td>\n",
       "      <td>5.752100</td>\n",
       "      <td>0.001567</td>\n",
       "      <td>Others</td>\n",
       "    </tr>\n",
       "    <tr>\n",
       "      <th>...</th>\n",
       "      <td>...</td>\n",
       "      <td>...</td>\n",
       "      <td>...</td>\n",
       "      <td>...</td>\n",
       "      <td>...</td>\n",
       "      <td>...</td>\n",
       "      <td>...</td>\n",
       "      <td>...</td>\n",
       "    </tr>\n",
       "    <tr>\n",
       "      <th>2570</th>\n",
       "      <td>0.536611</td>\n",
       "      <td>0.090148</td>\n",
       "      <td>0.133980</td>\n",
       "      <td>5.288801</td>\n",
       "      <td>0.804386</td>\n",
       "      <td>5.189941</td>\n",
       "      <td>0.001551</td>\n",
       "      <td>Others</td>\n",
       "    </tr>\n",
       "    <tr>\n",
       "      <th>2571</th>\n",
       "      <td>0.103112</td>\n",
       "      <td>-0.191081</td>\n",
       "      <td>0.079716</td>\n",
       "      <td>1.657171</td>\n",
       "      <td>0.328249</td>\n",
       "      <td>1.441835</td>\n",
       "      <td>0.001548</td>\n",
       "      <td>B</td>\n",
       "    </tr>\n",
       "    <tr>\n",
       "      <th>2572</th>\n",
       "      <td>0.280967</td>\n",
       "      <td>0.018127</td>\n",
       "      <td>0.184421</td>\n",
       "      <td>1.517213</td>\n",
       "      <td>2.234555</td>\n",
       "      <td>4.116011</td>\n",
       "      <td>0.001581</td>\n",
       "      <td>BB</td>\n",
       "    </tr>\n",
       "    <tr>\n",
       "      <th>2573</th>\n",
       "      <td>0.013940</td>\n",
       "      <td>-0.078596</td>\n",
       "      <td>0.036182</td>\n",
       "      <td>0.532568</td>\n",
       "      <td>0.116311</td>\n",
       "      <td>0.461944</td>\n",
       "      <td>0.001665</td>\n",
       "      <td>Others</td>\n",
       "    </tr>\n",
       "    <tr>\n",
       "      <th>2574</th>\n",
       "      <td>0.027594</td>\n",
       "      <td>-0.017284</td>\n",
       "      <td>-0.006893</td>\n",
       "      <td>1.055991</td>\n",
       "      <td>0.015637</td>\n",
       "      <td>0.635399</td>\n",
       "      <td>0.001938</td>\n",
       "      <td>Others</td>\n",
       "    </tr>\n",
       "  </tbody>\n",
       "</table>\n",
       "<p>2569 rows × 8 columns</p>\n",
       "</div>"
      ],
      "text/plain": [
       "      Altman_X1  Altman_X2  Altman_X3  Altman_X4  Altman_X5   Z_score  \\\n",
       "0      0.269566   0.787958   0.054974   1.337426   0.802918  3.213409   \n",
       "1      0.302949   0.122722   0.101234   7.837019   0.700172  6.271806   \n",
       "2      0.258158   0.244216   0.070187   0.759905   2.181182  3.520435   \n",
       "3     -0.132921   0.193790   0.162170   1.074658   2.830563  4.122319   \n",
       "4      0.376202   0.650973   0.135470   4.668577   1.141097  5.752100   \n",
       "...         ...        ...        ...        ...        ...       ...   \n",
       "2570   0.536611   0.090148   0.133980   5.288801   0.804386  5.189941   \n",
       "2571   0.103112  -0.191081   0.079716   1.657171   0.328249  1.441835   \n",
       "2572   0.280967   0.018127   0.184421   1.517213   2.234555  4.116011   \n",
       "2573   0.013940  -0.078596   0.036182   0.532568   0.116311  0.461944   \n",
       "2574   0.027594  -0.017284  -0.006893   1.055991   0.015637  0.635399   \n",
       "\n",
       "      cv_probability General_Rating  \n",
       "0           0.001626         Others  \n",
       "1           0.001567         Others  \n",
       "2           0.001804         Others  \n",
       "3           0.001778         Others  \n",
       "4           0.001567         Others  \n",
       "...              ...            ...  \n",
       "2570        0.001551         Others  \n",
       "2571        0.001548              B  \n",
       "2572        0.001581             BB  \n",
       "2573        0.001665         Others  \n",
       "2574        0.001938         Others  \n",
       "\n",
       "[2569 rows x 8 columns]"
      ]
     },
     "execution_count": 75,
     "metadata": {},
     "output_type": "execute_result"
    }
   ],
   "source": [
    "# final table with all the information\n",
    "\n",
    "final_df"
   ]
  },
  {
   "cell_type": "code",
   "execution_count": 76,
   "metadata": {},
   "outputs": [],
   "source": [
    "final_df['General_Rating'] = pd.Categorical(final_df['General_Rating'] , ['SD', 'A', 'BBB', 'BB', 'B', 'C', 'Others'])"
   ]
  },
  {
   "cell_type": "code",
   "execution_count": 77,
   "metadata": {},
   "outputs": [],
   "source": [
    "median_table = final_df.groupby(final_df.General_Rating).median()"
   ]
  },
  {
   "cell_type": "code",
   "execution_count": 78,
   "metadata": {},
   "outputs": [
    {
     "data": {
      "text/html": [
       "<div>\n",
       "<style scoped>\n",
       "    .dataframe tbody tr th:only-of-type {\n",
       "        vertical-align: middle;\n",
       "    }\n",
       "\n",
       "    .dataframe tbody tr th {\n",
       "        vertical-align: top;\n",
       "    }\n",
       "\n",
       "    .dataframe thead th {\n",
       "        text-align: right;\n",
       "    }\n",
       "</style>\n",
       "<table border=\"1\" class=\"dataframe\">\n",
       "  <thead>\n",
       "    <tr style=\"text-align: right;\">\n",
       "      <th></th>\n",
       "      <th>Altman_X1</th>\n",
       "      <th>Altman_X2</th>\n",
       "      <th>Altman_X3</th>\n",
       "      <th>Altman_X4</th>\n",
       "      <th>Altman_X5</th>\n",
       "      <th>Z_score</th>\n",
       "      <th>cv_probability</th>\n",
       "    </tr>\n",
       "    <tr>\n",
       "      <th>General_Rating</th>\n",
       "      <th></th>\n",
       "      <th></th>\n",
       "      <th></th>\n",
       "      <th></th>\n",
       "      <th></th>\n",
       "      <th></th>\n",
       "      <th></th>\n",
       "    </tr>\n",
       "  </thead>\n",
       "  <tbody>\n",
       "    <tr>\n",
       "      <th>SD</th>\n",
       "      <td>0.063379</td>\n",
       "      <td>-0.535731</td>\n",
       "      <td>0.031620</td>\n",
       "      <td>0.023996</td>\n",
       "      <td>1.603860</td>\n",
       "      <td>0.637967</td>\n",
       "      <td>0.108207</td>\n",
       "    </tr>\n",
       "    <tr>\n",
       "      <th>A</th>\n",
       "      <td>0.061881</td>\n",
       "      <td>0.279661</td>\n",
       "      <td>0.096254</td>\n",
       "      <td>1.557993</td>\n",
       "      <td>0.650599</td>\n",
       "      <td>3.025436</td>\n",
       "      <td>0.001581</td>\n",
       "    </tr>\n",
       "    <tr>\n",
       "      <th>BBB</th>\n",
       "      <td>0.068372</td>\n",
       "      <td>0.194337</td>\n",
       "      <td>0.088786</td>\n",
       "      <td>1.295671</td>\n",
       "      <td>0.603134</td>\n",
       "      <td>2.199439</td>\n",
       "      <td>0.001702</td>\n",
       "    </tr>\n",
       "    <tr>\n",
       "      <th>BB</th>\n",
       "      <td>0.134011</td>\n",
       "      <td>0.073551</td>\n",
       "      <td>0.079793</td>\n",
       "      <td>1.078747</td>\n",
       "      <td>0.800580</td>\n",
       "      <td>2.186057</td>\n",
       "      <td>0.001606</td>\n",
       "    </tr>\n",
       "    <tr>\n",
       "      <th>B</th>\n",
       "      <td>0.091760</td>\n",
       "      <td>-0.103274</td>\n",
       "      <td>0.067434</td>\n",
       "      <td>0.484684</td>\n",
       "      <td>0.809892</td>\n",
       "      <td>1.311357</td>\n",
       "      <td>0.002376</td>\n",
       "    </tr>\n",
       "    <tr>\n",
       "      <th>C</th>\n",
       "      <td>0.113906</td>\n",
       "      <td>-0.566092</td>\n",
       "      <td>-0.046038</td>\n",
       "      <td>0.112871</td>\n",
       "      <td>0.385995</td>\n",
       "      <td>-0.706604</td>\n",
       "      <td>0.032365</td>\n",
       "    </tr>\n",
       "    <tr>\n",
       "      <th>Others</th>\n",
       "      <td>0.220062</td>\n",
       "      <td>0.152482</td>\n",
       "      <td>0.079225</td>\n",
       "      <td>1.970494</td>\n",
       "      <td>0.821419</td>\n",
       "      <td>3.125429</td>\n",
       "      <td>0.001626</td>\n",
       "    </tr>\n",
       "  </tbody>\n",
       "</table>\n",
       "</div>"
      ],
      "text/plain": [
       "                Altman_X1  Altman_X2  Altman_X3  Altman_X4  Altman_X5  \\\n",
       "General_Rating                                                          \n",
       "SD               0.063379  -0.535731   0.031620   0.023996   1.603860   \n",
       "A                0.061881   0.279661   0.096254   1.557993   0.650599   \n",
       "BBB              0.068372   0.194337   0.088786   1.295671   0.603134   \n",
       "BB               0.134011   0.073551   0.079793   1.078747   0.800580   \n",
       "B                0.091760  -0.103274   0.067434   0.484684   0.809892   \n",
       "C                0.113906  -0.566092  -0.046038   0.112871   0.385995   \n",
       "Others           0.220062   0.152482   0.079225   1.970494   0.821419   \n",
       "\n",
       "                 Z_score  cv_probability  \n",
       "General_Rating                            \n",
       "SD              0.637967        0.108207  \n",
       "A               3.025436        0.001581  \n",
       "BBB             2.199439        0.001702  \n",
       "BB              2.186057        0.001606  \n",
       "B               1.311357        0.002376  \n",
       "C              -0.706604        0.032365  \n",
       "Others          3.125429        0.001626  "
      ]
     },
     "metadata": {},
     "output_type": "display_data"
    }
   ],
   "source": [
    "# Combined table \n",
    "display(median_table)"
   ]
  },
  {
   "cell_type": "markdown",
   "metadata": {},
   "source": [
    "#### Visualisations of the above values"
   ]
  },
  {
   "cell_type": "code",
   "execution_count": 79,
   "metadata": {},
   "outputs": [
    {
     "data": {
      "image/png": "[encoded data removed]",
      "text/plain": [
       "<Figure size 648x576 with 1 Axes>"
      ]
     },
     "metadata": {
      "needs_background": "light"
     },
     "output_type": "display_data"
    }
   ],
   "source": [
    "# Altman components + z_score vs the General rating category\n",
    "\n",
    "width = 0.35\n",
    "\n",
    "median_table[['Altman_X1', 'Altman_X2',\t'Altman_X3', 'Altman_X4', 'Altman_X5']].plot(kind='bar', width = width)\n",
    "# ax.legend(loc='upper center', bbox_to_anchor=(0.5, 1.05),\n",
    "#           ncol=3, fancybox=True, shadow=True)\n",
    "median_table['Z_score'].plot()\n",
    "\n",
    "ax = plt.gca()\n",
    "\n",
    "ax.set_xticklabels(list(median_table.index))\n",
    "ax.legend(loc='upper center', bbox_to_anchor=(0.5, 1.05),\n",
    "          ncol=3, fancybox=True, shadow=True)\n",
    "\n",
    "plt.show()"
   ]
  },
  {
   "cell_type": "code",
   "execution_count": 80,
   "metadata": {},
   "outputs": [
    {
     "data": {
      "image/png": "[encoded data removed]",
      "text/plain": [
       "<Figure size 648x576 with 1 Axes>"
      ]
     },
     "metadata": {
      "needs_background": "light"
     },
     "output_type": "display_data"
    }
   ],
   "source": [
    "# cv probability of bankruptcy\n",
    "\n",
    "width = 0.35\n",
    "median_table[['cv_probability']].plot(kind='bar', width = width)\n",
    "ax.legend(loc='upper center', bbox_to_anchor=(0.5, 1.05),\n",
    "          ncol=3, fancybox=True, shadow=True)\n",
    "\n",
    "ax = plt.gca()\n",
    "\n",
    "ax.set_xticklabels(list(median_table.index))\n",
    "ax.legend(loc='upper center', bbox_to_anchor=(0.5, 1.05),\n",
    "          ncol=3, fancybox=True, shadow=True)\n",
    "\n",
    "plt.show()\n",
    "\n"
   ]
  },
  {
   "cell_type": "markdown",
   "metadata": {},
   "source": [
    "It is interesting to note that the values go hand-in-hand with our beliefs. The Z_score and its respective components decrease the categories span from A -> B -> C. The 3 companies under SD can be kept somewhat as a benchmark. In that way, the C rated companies perform worse than the SD companies. This is the same for cv probability of bankruptcy. However, SD companies have the highest probability of bankruptcy among all categories. This could also be due to the fact that there are only 3 companies in the SD category and hence it might not be an accurate representation.\n",
    "\n",
    "As for all the 'Others', their median z-score/component variables values are considerably high while their cv probability is low."
   ]
  },
  {
   "cell_type": "markdown",
   "metadata": {},
   "source": [
    "#### Others"
   ]
  },
  {
   "cell_type": "code",
   "execution_count": 81,
   "metadata": {},
   "outputs": [],
   "source": [
    "#xgb_history.to_csv('initial_history.csv')\n",
    "# history.to_csv('history.csv')\n",
    "# history__revised.to_csv('history_revised.csv')"
   ]
  },
  {
   "cell_type": "code",
   "execution_count": 82,
   "metadata": {},
   "outputs": [],
   "source": [
    "# xgb_history = pd.read_csv('C:/Y4S1/BT4016/Assignment/initial_history.csv')\n",
    "# history = pd.read_csv('C:/Y4S1/BT4016/Assignment/history.csv')\n",
    "# history__revised = pd.read_csv('C:/Y4S1/BT4016/Assignment/history_revised.csv')"
   ]
  }
 ],
 "metadata": {
  "kernelspec": {
   "display_name": "Python 3",
   "language": "python",
   "name": "python3"
  },
  "language_info": {
   "codemirror_mode": {
    "name": "ipython",
    "version": 3
   },
   "file_extension": ".py",
   "mimetype": "text/x-python",
   "name": "python",
   "nbconvert_exporter": "python",
   "pygments_lexer": "ipython3",
   "version": "3.8.5"
  }
 },
 "nbformat": 4,
 "nbformat_minor": 4
}
